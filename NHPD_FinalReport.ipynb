{
 "cells": [
  {
   "cell_type": "markdown",
   "metadata": {
    "cell_id": "3599f9d4-6666-4455-8015-de79af406f30",
    "deepnote_cell_type": "markdown"
   },
   "source": [
    "# STAT 430: Final Project\n",
    "\n",
    "By: W. Jonas Reger and Atharv Pathak"
   ]
  },
  {
   "cell_type": "markdown",
   "metadata": {
    "cell_id": "41e4c6df-c2a3-4f8e-b5eb-7a70ad671bce",
    "deepnote_cell_type": "markdown",
    "tags": []
   },
   "source": [
    "## 1. Introduction and Dataset Research\n"
   ]
  },
  {
   "cell_type": "markdown",
   "metadata": {
    "cell_id": "00002-665ed4ad-ed6f-4ce9-b009-ae7ec28c7afc",
    "deepnote_cell_type": "markdown",
    "tags": []
   },
   "source": [
    "### Motivation"
   ]
  },
  {
   "cell_type": "markdown",
   "metadata": {
    "cell_id": "00003-bd5058d2-eea6-4966-8408-f2b182705dbc",
    "deepnote_cell_type": "markdown",
    "tags": []
   },
   "source": [
    "For this project we wanted to perform an analysis on a dataset that we found interesting but also relevant to our personal lives. We decided to use the \"Movies on Netflix, Prime Video, Hulu and Disney+\" Dataset from Kaggle, which can be found at https://www.kaggle.com/ruchi798/movies-on-netflix-prime-video-hulu-and-disney. The Netflix Prize brought more attention to how important recommender systems are and how they may be used in many applications. While algorithms designed to recommend movies, products, or other services to customers are very beneficial to businesses and customers alike, sometimes they can perform poorly due to insufficient data or skewed analysis. Industry practitioners want these recommendations to be fast, simple, and accurate to make it as easy as possible for customers to see it and decide that it's something they want to buy (Technophilo, 2012) Recommendation systems can work very well because they provide customers a way to give their feedback about what they liked or disliked. This feedback helps businesses generate predictions on what other movies or products that the customer is most likely to watch or buy, which can increase the amount of business that is made (Aggarwal, 2016). While our end goal for the project isn't to build a recommendation system, this is a big part of what drew us to this dataset, which contains not just data from Netflix but from three other streaming services as well. We were also excited to find any possible relationships between movie ratings, production details, age, target audience, and streaming services that we may or may not already know. The motivation of someone who would analyze this kind of data more extensively would likely be to build a recommendation system for one of these streaming services or for other movie retailers. These businesses would be able to advertise or recommend movies to customers who would be more likely to watch or pay for it. For instance, Netflix and Prime Video are likely to have a large selection of movies available for all age ratings and would benefit from being able to recommend the best movie for a viewer who prefers 18+ rated Horror and Thriller movies vs another viewer who prefers Comedy and Drama but has no discrimination for age ratings. Another application is to evaluate how well movies in different clusters are rated across different geographic regions, so Netflix could make decisions on what movies to add or remove from different regions of their service. This dataset could even be expanded by including social media ratings and response to movies, movie revenue, how much was watched, and user-specific information that could be more useful for a recommendation system. This kind of data can also be useful to the movie production industry in general since it can help them measure the success of a movie based on ratings, where it's most popular, what genres or other characteristics are trending, and even what streaming service might add the movie to their library. This dataset can also be expanded by including movie rating changes over time to be even more useful for the movie industry (Moon et al, 2010).\n",
    "\n",
    "1. Aggarwal C.C. (2016) An Introduction to Recommender Systems. In: Recommender Systems. _Springer, Cham_. https://doi.org/10.1007/978-3-319-29659-3_1\n",
    "2. Moon, S., Bergey, P. K., & Iacobucci, D. (2010). Dynamic Effects among Movie Ratings, Movie Revenues, and Viewer Satisfaction. _Journal of Marketing, 74_(1), 108–121. https://doi.org/10.1509/jmkg.74.1.108\n",
    "3. Technophilo. (2012, October). Recommender Systems: Pros and Cons. _Technophilo_. http://www.technophilo.in/2012/10/recommender-systems-pros-and-cons.html"
   ]
  },
  {
   "cell_type": "markdown",
   "metadata": {
    "cell_id": "00003-916086dc-b6e4-4038-915c-4851a9b189e4",
    "deepnote_cell_type": "markdown",
    "tags": []
   },
   "source": [
    "### Dataset Information"
   ]
  },
  {
   "cell_type": "markdown",
   "metadata": {
    "cell_id": "00005-c1facaf7-631d-497b-b0a6-0197f4c65d28",
    "deepnote_cell_type": "markdown",
    "tags": []
   },
   "source": [
    "We retrieved this dataset from Kaggle, which is maintained by Ruchi Bhatia. Part of the data was scraped, which contains attribute information of movies that were available on the streaming platforms. The remaining data came from the IMDb dataset. The Kaggle user was inspired to make this dataset from the following questions:\n",
    "\n",
    "1. Which streaming platform(s) can I find this movie on?\n",
    "2. Average IMDb rating of movies produced in a country?\n",
    "3. Target age group movies vs the streaming \\[platform\\] they can be found on.\n",
    "4. The year during which a movie was produced and the streaming platform they can be found on.\n",
    "5. Analysis of the popularity of a movie vs directors.\n",
    "\n",
    "She provides a link to her own data visualization that answers these questions, but we will not focus on or be limited to these questions for our own analysis. The dataset has 16744 observations (movies) and 17 columns for row index, movie ID, title, year of production, age rating, IMDb rating, Rotten Tomatoes rating, Netflix Dummy Variable (DV), Hulu DV, Prime Video DV, Disney+ DV, Type (movie or tv show), Directors (names), Genres, Country(s) available in, Language(s), and Runtime (movie length). \n",
    "\n",
    "There was no further details including on what if any preprocessing was used, but there may likely have been some binning used since since movies are usually region specific for most if not all platforms. For instance, the movie 'Inception' is listed on Netflix only but might only be available in the United States. Another possible issue is that the 'Country' column could refer to these region specefic availabilities or to where the movie was produced, neither was explicitly stated (similar issues for 'Genres', 'Language', and 'Directors'). We are not sure exactly which attributes come from IMDb or streaming services, but we think it would safe to assume that the attributes we mentioned likely came from the streaming services."
   ]
  },
  {
   "cell_type": "markdown",
   "metadata": {
    "cell_id": "00004-6d5318a2-961f-4436-a6a1-f590c885a6d1",
    "deepnote_cell_type": "markdown",
    "tags": []
   },
   "source": [
    "## 2. Preliminary Exploratory Data Analysis (EDA)"
   ]
  },
  {
   "cell_type": "markdown",
   "metadata": {
    "cell_id": "00004-c6e8f6d5-6a33-4025-9074-793ff3981beb",
    "deepnote_cell_type": "text-cell-h3",
    "tags": []
   },
   "source": [
    "### Package Imports"
   ]
  },
  {
   "cell_type": "code",
   "execution_count": null,
   "metadata": {
    "cell_id": "00004-b43a7f8a-e3b9-45de-9034-246df7571074",
    "deepnote_cell_type": "code",
    "deepnote_to_be_reexecuted": false,
    "execution_millis": 1212,
    "execution_start": 1620669380977,
    "source_hash": "f0da61d2",
    "tags": []
   },
   "outputs": [],
   "source": [
    "import warnings\n",
    "warnings.filterwarnings('ignore')\n",
    "\n",
    "import numpy as np\n",
    "import pandas as pd\n",
    "import matplotlib.pyplot as plt\n",
    "import seaborn as sns\n",
    "import matplotlib.cm as cm\n",
    "%matplotlib inline\n",
    "import statistics as st\n",
    "\n",
    "import time\n",
    "import math\n",
    "\n",
    "from sklearn.cluster import KMeans, MiniBatchKMeans, Birch, DBSCAN, AgglomerativeClustering\n",
    "from sklearn.manifold import TSNE\n",
    "from sklearn.datasets import make_blobs, load_digits\n",
    "from sklearn.metrics import adjusted_rand_score, silhouette_score, silhouette_samples\n",
    "# , calinski_harabaz_score\n",
    "from sklearn.metrics.pairwise import pairwise_distances\n",
    "from sklearn.neighbors import NearestNeighbors\n",
    "from sklearn.preprocessing import StandardScaler\n",
    "from sklearn.decomposition import PCA\n",
    "\n",
    "from kmodes.kmodes import KModes\n",
    "\n",
    "from scipy.spatial.distance import pdist, squareform\n",
    "from scipy.cluster.hierarchy import linkage, dendrogram, cophenet\n",
    "\n",
    "from pyclustertend import hopkins\n",
    "from sklearn import preprocessing"
   ]
  },
  {
   "cell_type": "markdown",
   "metadata": {
    "cell_id": "00011-cd362272-937a-46e0-85a1-72f13eecf7e4",
    "deepnote_cell_type": "markdown",
    "tags": []
   },
   "source": [
    "The above packages are necessary for the exploratory data analysis and unsupervised learning algorithms needed for the dataset. These functions will be used throughout the report and are pivotal for mining important insights from the data."
   ]
  },
  {
   "cell_type": "markdown",
   "metadata": {
    "cell_id": "00006-2e56ab0d-8936-4135-9174-a01ce0d87a54",
    "deepnote_cell_type": "text-cell-h3",
    "tags": []
   },
   "source": [
    "### Loading Dataset"
   ]
  },
  {
   "cell_type": "code",
   "execution_count": null,
   "metadata": {
    "cell_id": "0b9b7a2b-9e8b-458b-90e1-e03933d2c995",
    "deepnote_cell_type": "code",
    "deepnote_to_be_reexecuted": false,
    "execution_millis": 405,
    "execution_start": 1620669382192,
    "output_cleared": false,
    "source_hash": "344c82e4",
    "tags": []
   },
   "outputs": [],
   "source": [
    "# Load the data set\n",
    "df = pd.read_csv('MoviesOnStreamingPlatforms_updated.csv') \n",
    "print(df.shape)\n",
    "df.head()"
   ]
  },
  {
   "cell_type": "markdown",
   "metadata": {
    "cell_id": "00014-f4f096ba-952a-4f0a-ab96-e4c6e1b2d1ee",
    "deepnote_cell_type": "markdown",
    "tags": []
   },
   "source": [
    "The data shown above closely resembles the raw data file given on Kaggle. Although the dataset was briefly described in the introduction of the report, there are still some key features that should be emphasized. First, it is important to note the overall structures of most features in the dataset: categorical. In other words, many of the clustering/unsupervised learning techniques mentioned in class may not yield substantial results, due to the lack of numerical attributes. There are several ways to combat this issue in order to allow the data to be usable for unsupervised learning. One method, which is implemented in this report, is the use of dummy variables. Instead of having strings of data in each column, like types of genres and name of the directors, it may be more helpful to convert those features into numerical, 1s or 0s, data. This process is outlined later in the Preliminary Exploratory Data Analysis section; however, by doing this, unsupervised learning techniques can be better applied to the dataset. "
   ]
  },
  {
   "cell_type": "markdown",
   "metadata": {
    "cell_id": "00008-dab897c6-17f3-4463-8390-1f483e64abfa",
    "deepnote_cell_type": "text-cell-h3",
    "tags": []
   },
   "source": [
    "### Summary Statistics of Numerical Attributes"
   ]
  },
  {
   "cell_type": "code",
   "execution_count": null,
   "metadata": {
    "cell_id": "00006-fab4b42b-07ea-416c-8dde-cbb83e944380",
    "deepnote_cell_type": "code",
    "deepnote_to_be_reexecuted": false,
    "execution_millis": 75,
    "execution_start": 1620669382593,
    "source_hash": "f88152d9",
    "tags": []
   },
   "outputs": [],
   "source": [
    "df.describe()"
   ]
  },
  {
   "cell_type": "markdown",
   "metadata": {
    "cell_id": "00017-36b7425e-e7d9-4ce0-9817-2d4a16d7ea23",
    "deepnote_cell_type": "markdown",
    "tags": []
   },
   "source": [
    "By importing the dataset into a Pandas dataframe, the summary statistics can be invoked by using the `.describe()` function. Unfortunately, only the numerical features are shown for the summary statistics because the categorical data cannot be described in this way. One thing to note is that the count of each attribute is different, hinting that there may be missing values in the dataset that must be cleansed. Next, the `Netflix`, `Hulu`, `Amazon Prime Video` and `Disney+` columns do not provide valuable insights on each of the parameters. This is mainly due to the fact that those columns are enocded as dummy variables (1s or 0s), meaning that the data shows whether or not an observation has either `Netflix` or no `Netflix`. However, we can see that the average values are quite small for `Netflix`, `Hulu` and `Disney+`, meaning that there are probably very few movies on those streaming platforms within the dataset. On the other hand, `Prime Video` has a value (0.74) relatively close to 1, meaning that most observations are `Prime Video` m. Next, one interesting feature worth noting are the `IMDb` scores of movies. The movies on average have a score of about 5.9, but the standard deviation of the scores is quite large with 1.35. This means that most of the data points in the dataset are between a score of 4.55 and 7.25. Lastly, the `Years` the movies were made spanned a multitude of decades. The oldest movie was made in 1902 and the most recent movie was made in 2020, meaning there is a range of more than 100 years among movies in the dataset. These attributes will provide interesting insights on consumer behavior when unsupervised learning algorithms are applied on the dataset."
   ]
  },
  {
   "cell_type": "markdown",
   "metadata": {
    "cell_id": "00010-e3a576d8-0260-4f7e-b391-ba571ab80ff4",
    "deepnote_cell_type": "text-cell-h3",
    "tags": []
   },
   "source": [
    "### Number of observations per unique value in each categorical variable"
   ]
  },
  {
   "cell_type": "code",
   "execution_count": null,
   "metadata": {
    "cell_id": "00007-ed035350-70e3-468b-b71b-b1c26ef88d35",
    "deepnote_cell_type": "code",
    "deepnote_to_be_reexecuted": false,
    "execution_millis": 19,
    "execution_start": 1620669382655,
    "source_hash": "902ff3b5",
    "tags": []
   },
   "outputs": [],
   "source": [
    "df['Age'].value_counts()"
   ]
  },
  {
   "cell_type": "markdown",
   "metadata": {
    "cell_id": "00020-6de0741d-3cb6-412c-ba99-1b92a08dae34",
    "deepnote_cell_type": "markdown",
    "tags": []
   },
   "source": [
    "Using the `.value_counts()` function in Python, the counts for each value of age can be found. It is apparent that most of the movie options are 18+, which isn't too surprising. Additionally, since there are streaming platforms, like Disney+, in this dataset, it makes sense that there would be a 1462 observations with 7+ movies and 1255 observations with 13+ movies. The `Age` variable will definitely provide insight on types of movies presented in each of the clusters."
   ]
  },
  {
   "cell_type": "markdown",
   "metadata": {
    "cell_id": "00021-21d53397-e767-4ac6-b643-4bcbe1549612",
    "deepnote_cell_type": "markdown",
    "tags": []
   },
   "source": [
    "`catSeparate` is a function used to separate categorical values in text cells for `Country`, `Language`, `Directors`, and `Genres` columns."
   ]
  },
  {
   "cell_type": "code",
   "execution_count": null,
   "metadata": {
    "cell_id": "00012-023f63e4-71c5-4dd0-b463-8f16b20413d5",
    "deepnote_cell_type": "code",
    "deepnote_to_be_reexecuted": false,
    "execution_millis": 15,
    "execution_start": 1620669382663,
    "source_hash": "deb68e9f",
    "tags": []
   },
   "outputs": [],
   "source": [
    "def catSeparate(X):\n",
    "    lst = []\n",
    "    lst_ct = []\n",
    "    large = 0\n",
    "    n = len(X)\n",
    "    for i in range(0, n):\n",
    "        c = X[i].split(\",\")\n",
    "        if (len(c) > large):\n",
    "            large = len(c)\n",
    "        else:\n",
    "            pass\n",
    "        for j in range(0, len(c)):\n",
    "            lst_ct.append(c[j])\n",
    "            if (c[j] in lst):\n",
    "                pass\n",
    "            else:\n",
    "                lst.append(c[j])\n",
    "\n",
    "    print(large)\n",
    "    print(len(lst))\n",
    "    return(pd.Series(lst_ct))"
   ]
  },
  {
   "cell_type": "code",
   "execution_count": null,
   "metadata": {
    "cell_id": "00008-7873a50d-784b-4ab7-9332-c712006852b5",
    "deepnote_cell_type": "code",
    "deepnote_to_be_reexecuted": false,
    "execution_millis": 101,
    "execution_start": 1620669382686,
    "source_hash": "7ff3d084",
    "tags": []
   },
   "outputs": [],
   "source": [
    "X = df.copy()\n",
    "C = X['Country'].replace(np.nan, \"Unknown\")\n",
    "catSeparate(C).value_counts().head(25)"
   ]
  },
  {
   "cell_type": "markdown",
   "metadata": {
    "cell_id": "00024-715dd6ad-c57a-4b2c-a80f-659e831cc249",
    "deepnote_cell_type": "markdown",
    "tags": []
   },
   "source": [
    "From this analysis above, it is apparent that the `Country` variable has about 169 unique countries and a mximum of 27 countries listed for a single movie. It is also not surprising that the first 3 countries, United States, United Kingdom and India, have the highest counts. This is primarily because each of those countries have a booming film industry and are known to output popular cinematography. "
   ]
  },
  {
   "cell_type": "code",
   "execution_count": null,
   "metadata": {
    "cell_id": "00014-0b0341da-1734-4dac-bf87-78ae313e54ab",
    "deepnote_cell_type": "code",
    "deepnote_to_be_reexecuted": false,
    "execution_millis": 92,
    "execution_start": 1620669382780,
    "source_hash": "d1b53292",
    "tags": []
   },
   "outputs": [],
   "source": [
    "L = X['Language'].replace(np.nan, \"Unknown\")\n",
    "catSeparate(L).value_counts().head(30)"
   ]
  },
  {
   "cell_type": "markdown",
   "metadata": {
    "cell_id": "00026-0db1d8ad-3aa4-47af-accf-ba48bc6955ec",
    "deepnote_cell_type": "markdown",
    "tags": []
   },
   "source": [
    "From the code outputted above, it is apparent that the `Language` variable has 179 unique languages and a maximum of 10 languages listed for a single movie. It is also no suprise that English has the highest number of observations as it is the most popular language in the world. "
   ]
  },
  {
   "cell_type": "code",
   "execution_count": null,
   "metadata": {
    "cell_id": "00016-234de50f-06e8-4b77-bb4b-8647fdb78f1f",
    "deepnote_cell_type": "code",
    "deepnote_to_be_reexecuted": false,
    "execution_millis": 1694,
    "execution_start": 1620669382868,
    "source_hash": "bed7b40d",
    "tags": []
   },
   "outputs": [],
   "source": [
    "D = X['Directors'].replace(np.nan, \"Unknown\")\n",
    "catSeparate(D).value_counts().head(25)"
   ]
  },
  {
   "cell_type": "markdown",
   "metadata": {
    "cell_id": "00028-c1244580-8cad-416e-b314-dc905f325183",
    "deepnote_cell_type": "markdown",
    "tags": []
   },
   "source": [
    "Next, it is apparent that the `Directors` column has a plethora of different options for movies. Specifically, there are 12,454 unique directors and a maximum of 28 directors listed for a single movie. Although this variable is very diverse, it does not seem to be a great option for clustering as there seems to be a lot of `Unknown` directors and the rest of the knowns directors are spread very thin."
   ]
  },
  {
   "cell_type": "code",
   "execution_count": null,
   "metadata": {
    "cell_id": "00019-78f65e01-595e-4e0f-9a85-866ade1d2311",
    "deepnote_cell_type": "code",
    "deepnote_to_be_reexecuted": false,
    "execution_millis": 141,
    "execution_start": 1620669384552,
    "source_hash": "c485f5e7",
    "tags": []
   },
   "outputs": [],
   "source": [
    "G = X['Genres'].replace(np.nan, \"Unknown\")\n",
    "catSeparate(G).value_counts().head(25)"
   ]
  },
  {
   "cell_type": "markdown",
   "metadata": {
    "cell_id": "00030-a98919f8-0847-45d1-95c9-c9dd6fe31236",
    "deepnote_cell_type": "markdown",
    "tags": []
   },
   "source": [
    "Lastly, the `Genre` feature provides a lot of insight on the types of movies that are on the streaming platforms. There seems to be 28 unique genres spread accross the dataset and a maximum of 9 genres listed for a single movie. This feature will definitely be the most interesting to analyze as most cluster groups tend to have similar genres of movies. "
   ]
  },
  {
   "cell_type": "markdown",
   "metadata": {
    "cell_id": "00021-c8c210c1-df6f-44e3-b2d6-820faff3c719",
    "deepnote_cell_type": "text-cell-h3",
    "tags": []
   },
   "source": [
    "### Checking datatypes of each column"
   ]
  },
  {
   "cell_type": "code",
   "execution_count": null,
   "metadata": {
    "cell_id": "00021-eafda6ec-dbbf-476f-9b94-461d66a8dfdf",
    "deepnote_cell_type": "code",
    "deepnote_to_be_reexecuted": false,
    "execution_millis": 6,
    "execution_start": 1620669384652,
    "source_hash": "52430027",
    "tags": []
   },
   "outputs": [],
   "source": [
    "df.dtypes"
   ]
  },
  {
   "cell_type": "markdown",
   "metadata": {
    "cell_id": "00023-e09df97a-6b10-4204-abe9-302c490144b1",
    "deepnote_cell_type": "text-cell-h3",
    "tags": []
   },
   "source": [
    "### Preprocessing and Data Cleaning"
   ]
  },
  {
   "cell_type": "code",
   "execution_count": null,
   "metadata": {
    "cell_id": "00024-009446f2-c952-4025-9bd0-f4749eb94bd5",
    "deepnote_cell_type": "code",
    "deepnote_to_be_reexecuted": false,
    "execution_millis": 53,
    "execution_start": 1620669384675,
    "source_hash": "c085b6ba",
    "tags": []
   },
   "outputs": [],
   "source": [
    "df.head()"
   ]
  },
  {
   "cell_type": "code",
   "execution_count": null,
   "metadata": {
    "cell_id": "00025-69145111-4b33-46bf-867c-c9eaea835150",
    "deepnote_cell_type": "code",
    "deepnote_to_be_reexecuted": false,
    "execution_millis": 20,
    "execution_start": 1620669384741,
    "source_hash": "a4e8c428",
    "tags": []
   },
   "outputs": [],
   "source": [
    "df.isnull().sum(axis = 0)"
   ]
  },
  {
   "cell_type": "markdown",
   "metadata": {
    "cell_id": "00036-dd54db6b-fd5e-41a8-9906-df7b9462b5ec",
    "deepnote_cell_type": "markdown",
    "tags": []
   },
   "source": [
    "There's a considerable amount of missing data in some columns, the largest being Rotten Tomatoes with 11586 missing values out of a total of 16744 values. Hence, the `Rotten Tomatoes` variable will be dropped, but other variables will be kept and will be cleaned by dropping their respective NA values. Additionally,  `ID`, `Unnamed: 0`, and `Type` will be dropped since they contain irrelevant information for the analysis. "
   ]
  },
  {
   "cell_type": "code",
   "execution_count": null,
   "metadata": {
    "cell_id": "00025-4365b93e-c187-442c-8d29-0ce4d61cce5b",
    "deepnote_cell_type": "code",
    "deepnote_to_be_reexecuted": false,
    "execution_millis": 80,
    "execution_start": 1620669384753,
    "source_hash": "e8847ee8",
    "tags": []
   },
   "outputs": [],
   "source": [
    "DF = df.copy()\n",
    "DF['Runtime'] = DF['Runtime'].replace(np.nan, st.mean(DF['Runtime']))\n",
    "DF = DF.drop(['Rotten Tomatoes', 'ID', 'Unnamed: 0', 'Type'], axis=1)\n",
    "DF = DF.dropna()\n",
    "DF.reset_index(drop=True, inplace=True)\n",
    "print(DF.shape)\n",
    "DF.head()"
   ]
  },
  {
   "cell_type": "markdown",
   "metadata": {
    "cell_id": "00039-1bc25087-79cc-46bf-aba4-93b5b3a821d6",
    "deepnote_cell_type": "markdown",
    "tags": []
   },
   "source": [
    "`dummyDF` is a function that separates the categories in text cells and creates a dummy variable dataframe for the specified column."
   ]
  },
  {
   "cell_type": "code",
   "execution_count": null,
   "metadata": {
    "cell_id": "00025-3edad5d9-d7f7-45fd-a897-b8059380e44f",
    "deepnote_cell_type": "code",
    "deepnote_to_be_reexecuted": false,
    "execution_millis": 1,
    "execution_start": 1620669384822,
    "source_hash": "d1f8e2d4",
    "tags": []
   },
   "outputs": [],
   "source": [
    "def dummyDF(X):\n",
    "    temp = pd.DataFrame(X)\n",
    "    lst = []\n",
    "    n = len(X)\n",
    "    for i in range(0, n):\n",
    "        c = X[i].split(\",\")\n",
    "        for j in range(0, len(c)):\n",
    "            if (c[j] not in lst):\n",
    "                lst.append(c[j])\n",
    "                temp[c[j]] = \"\"\n",
    "            temp.iloc[i, temp.columns.get_loc(c[j])] = 1\n",
    "    COL = temp.replace(\"\", 0).drop(temp.columns[0], axis=1)\n",
    "    print(COL.shape)\n",
    "    return(COL)\n",
    "\n",
    "# pd.set_option('display.max_columns', None)\n",
    "# print(GENRE.shape)\n",
    "# GENRE.head(15)"
   ]
  },
  {
   "cell_type": "code",
   "execution_count": null,
   "metadata": {
    "cell_id": "00031-3632286d-8653-48d7-bc32-b25783a31cc4",
    "deepnote_cell_type": "code",
    "deepnote_to_be_reexecuted": false,
    "execution_millis": 52797,
    "execution_start": 1620669384824,
    "source_hash": "de6faba7",
    "tags": []
   },
   "outputs": [],
   "source": [
    "Ldf = dummyDF(DF['Language'])\n",
    "Gdf = dummyDF(DF['Genres'])\n",
    "Ddf = dummyDF(DF['Directors'])\n",
    "Cdf = dummyDF(DF['Country'])"
   ]
  },
  {
   "cell_type": "markdown",
   "metadata": {
    "cell_id": "00041-ed1ffcc9-81fc-444f-80e1-f4c5a44c8203",
    "deepnote_cell_type": "markdown",
    "tags": []
   },
   "source": [
    "Considering the large number of categorical levels in these dummy variable dataframes, it will be the most efficient to only use the total number of values per observation instead. Because of this, the `Genres` dummy variable dataframe will be the only one used, and the `Language` and `Country` dummy variable dataframes will be dimensionally reduced by combining levels into larger groups (e.g. merging all European levels of `Country` into one column called `European`)."
   ]
  },
  {
   "cell_type": "code",
   "execution_count": null,
   "metadata": {
    "cell_id": "00033-239e1769-5954-4ae9-9bf1-9f33bc905a5b",
    "deepnote_cell_type": "code",
    "deepnote_to_be_reexecuted": false,
    "execution_millis": 619,
    "execution_start": 1620669437669,
    "source_hash": "c778e0c",
    "tags": []
   },
   "outputs": [],
   "source": [
    "CX = Cdf.copy()\n",
    "\n",
    "NA = ['United States', 'Mexico', 'Canada', 'Bermuda', 'Costa Rica', 'Guatemala', 'Panama',\n",
    "'Bahamas', 'Dominican Republic', 'Haiti', 'Puerto Rico', 'Cayman Islands', 'Cuba', 'Jamaica']\n",
    "\n",
    "SA = ['Aruba', 'Brazil', 'Argentina', 'Chile', 'Colombia', 'Peru', 'Ecuador', 'Uruguay', 'Paraguay',\n",
    "'Trinidad and Tobago']\n",
    "\n",
    "EU = ['United Kingdom', 'Italy', 'Spain', 'West Germany', 'France', 'Poland', 'Germany', 'Ireland',\n",
    "'Belgium', 'East Germany', 'Sweden', 'Finland', 'Denmark', 'Luxembourg', 'Greece', 'Netherlands',\n",
    "'Switzerland', 'Hungary', 'Norway', 'Romania', 'Iceland', 'Russia', 'Croatia', 'Holy See (Vatican City State)',\n",
    "'Bulgaria', 'Malta', 'Latvia', 'Slovenia', 'Austria', 'Albania', 'Portugal', 'Serbia', 'Czech Republic',\n",
    "'Federal Republic of Yugoslavia', 'Monaco', 'Lithuania', 'Ukraine', 'Czechoslovakia', 'Estonia',\n",
    "'Soviet Union', 'Yugoslavia', 'Belarus', 'Slovakia', 'Bosnia and Herzegovina', 'Montenegro']\n",
    "\n",
    "AS = ['Hong Kong', 'China', 'Japan', 'South Korea', 'Taiwan', 'Afghanistan', 'Bangladesh', \n",
    "'India', 'Kazakhstan', 'Kyrgyzstan', 'Nepal', 'Pakistan', \n",
    "'Thailand', 'Cambodia', 'Laos', 'Malaysia', 'Vietnam', 'Singapore', 'Indonesia', 'Philippines', \n",
    "'Bahrain', 'Iran', 'Iraq', 'Israel', 'Jordan', 'Lebanon', 'Qatar', 'Saudi Arabia', \n",
    "'Syria', 'Turkey', 'Palestine', 'United Arab Emirates']\n",
    "\n",
    "AU = ['Australia', 'New Zealand', 'Papua New Guinea']\n",
    "\n",
    "AF = ['Senegal', 'Nigeria', 'Ghana', 'Burkina Faso', 'Egypt', 'Libya', 'Morocco', 'Tunisia', \n",
    "'Angola', 'Congo', 'Ethiopia', 'Kenya', 'Malawi', 'Rwanda', 'Somalia', 'Tanzania', 'Uganda', \n",
    "'Zambia', 'Botswana', 'Namibia', 'South Africa']\n",
    "\n",
    "Regions = NA + SA + EU + AS + AU + AF\n",
    "\n",
    "CX['North America'] = CX[NA].sum(axis=1)\n",
    "CX['South America'] = CX[SA].sum(axis=1)\n",
    "CX['Europe'] = CX[EU].sum(axis=1)\n",
    "CX['Asia'] = CX[AS].sum(axis=1)\n",
    "CX['Australia and Pacific'] = CX[AU].sum(axis=1)\n",
    "CX['Africa'] = CX[AF].sum(axis=1)\n",
    "\n",
    "CX = CX.drop(Regions, axis=1)\n",
    "\n",
    "for i in CX.columns:\n",
    "    for ii in range(0,len(CX)):\n",
    "        if CX[i][ii] == 0 or CX[i][ii] == 1:\n",
    "            pass\n",
    "        if CX[i][ii] > 1:\n",
    "            CX[i][ii] = 1\n",
    "\n",
    "CX.head()"
   ]
  },
  {
   "cell_type": "code",
   "execution_count": null,
   "metadata": {
    "cell_id": "00034-8bb594b9-d308-4e49-800f-8fbc00af51c3",
    "deepnote_cell_type": "code",
    "deepnote_to_be_reexecuted": false,
    "execution_millis": 1269,
    "execution_start": 1620669438309,
    "source_hash": "7f461598",
    "tags": []
   },
   "outputs": [],
   "source": [
    "# English       13233\n",
    "# Spanish         872\n",
    "# French          799\n",
    "# Arabic          190\n",
    "# Portuguese      108\n",
    "\n",
    "LX = Ldf.copy()\n",
    "\n",
    "NA = ['North American Indian', 'East-Greenlandic', 'Cheyenne', 'Navajo', 'Maya', 'Middle English',\n",
    "'Inuktitut', 'Sioux', 'Creek', 'Athapascan languages', 'Apache languages', 'Micmac']\n",
    "\n",
    "SA = ['Quechua', 'Mapudungun', 'Papiamento', 'Tupi', 'Guarani']\n",
    "\n",
    "EU = ['Basque', 'Finnish', 'Serbo-Croatian', 'Swiss German', 'Croatian', 'Aramaic', 'Saami',\n",
    "'Hungarian', 'Estonian', 'Serbian', 'Bosnian', 'Lithuanian', 'Latin', 'Greek', 'Irish', 'Yiddish', \n",
    "'Norwegian', 'Romanian', 'Scottish Gaelic', 'Danish', 'Flemish', 'Slovenian', 'Catalan',\n",
    "'Icelandic', 'Ukrainian', 'Dutch', 'Polish', 'Czech', 'Welsh', 'Luxembourgish', 'Cornish', \n",
    "'Maltese', 'Scots', 'Slovak', 'Low German', 'Bulgarian', 'Swedish', 'German', 'Italian', 'Russian']\n",
    "\n",
    "AS = ['Kudmali', 'Bhojpuri', 'Sanskrit', 'Pushto', 'Sinhalese', 'Awadhi', 'Vietnamese', 'Marathi',\n",
    "'Armenian', 'Kannada', 'Nepali', 'Urdu', 'Persian', 'Kurdish', 'Bengali', 'Thai', 'Indonesian', \n",
    "'Khmer', 'Tagalog', 'Turkmen', 'Tibetan', 'Min Nan', 'Chinese', 'Malayalam', 'Mongolian', 'Punjabi',\n",
    "'Malay', 'Hakka', 'Shanghainese', 'Gujarati', 'Assyrian Neo-Aramaic', 'Dari', 'Filipino', 'Turkish',\n",
    "'Cantonese', 'Korean', 'Hindi', 'Tamil', 'Telugu', 'Japanese', 'Mandarin', 'Hebrew']\n",
    "\n",
    "AU = ['Polynesian', 'Aboriginal', 'Maori', 'Hawaiian']\n",
    "\n",
    "AF = ['Masai', 'Dyula', 'Nama', 'Amharic', 'Southern Sotho', 'Lingala', 'Berber languages', 'Wolof',\n",
    "'Nyanja', 'Afrikaans', 'Zulu', 'Xhosa', 'Swahili', 'Yoruba', 'Kinyarwanda']\n",
    "\n",
    "SL = ['Japanese Sign Language', 'American Sign Language', 'Sign Languages',\n",
    "'French Sign Language', 'None', 'Brazilian Sign Language']\n",
    "\n",
    "OT = ['Esperanto', 'Klingon', 'None']\n",
    "\n",
    "Regions = NA + SA + EU + AS + AU + AF + OT + SL\n",
    "\n",
    "LX['North American'] = LX[NA].sum(axis=1)\n",
    "LX['South American'] = LX[SA].sum(axis=1)\n",
    "LX['European'] = LX[EU].sum(axis=1)\n",
    "LX['Asian'] = LX[AS].sum(axis=1)\n",
    "LX['Australian and Pacific'] = LX[AU].sum(axis=1)\n",
    "LX['African'] = LX[AF].sum(axis=1)\n",
    "LX['Sign Lang.'] = LX[SL].sum(axis=1)\n",
    "LX['Other'] = LX[OT].sum(axis=1)\n",
    "\n",
    "LX = LX.drop(Regions, axis=1)\n",
    "\n",
    "for i in LX.columns:\n",
    "    for ii in range(0,len(LX)):\n",
    "        if LX[i][ii] == 0 or LX[i][ii] == 1:\n",
    "            pass\n",
    "        if LX[i][ii] > 1:\n",
    "            LX[i][ii] = 1\n",
    "\n",
    "LX.head()"
   ]
  },
  {
   "cell_type": "code",
   "execution_count": null,
   "metadata": {
    "cell_id": "00034-2ac59d0a-a945-453c-949c-70c02c70c613",
    "deepnote_cell_type": "code",
    "deepnote_to_be_reexecuted": false,
    "execution_millis": 112,
    "execution_start": 1620669439553,
    "source_hash": "50ee20eb",
    "tags": []
   },
   "outputs": [],
   "source": [
    "sns.histplot(Ldf.sum(axis=1))"
   ]
  },
  {
   "cell_type": "code",
   "execution_count": null,
   "metadata": {
    "cell_id": "00035-b8a1b1ba-dfe3-474e-a3d8-ae1f4a3ee010",
    "deepnote_cell_type": "code",
    "deepnote_to_be_reexecuted": false,
    "execution_millis": 298,
    "execution_start": 1620669439663,
    "source_hash": "14aea598",
    "tags": []
   },
   "outputs": [],
   "source": [
    "sns.histplot(Gdf.sum(axis=1))"
   ]
  },
  {
   "cell_type": "code",
   "execution_count": null,
   "metadata": {
    "cell_id": "00036-cb939f33-24c4-4649-8969-4e90f97f6998",
    "deepnote_cell_type": "code",
    "deepnote_to_be_reexecuted": false,
    "execution_millis": 274,
    "execution_start": 1620669439971,
    "source_hash": "89faf548",
    "tags": []
   },
   "outputs": [],
   "source": [
    "sns.histplot(Ddf.sum(axis=1))"
   ]
  },
  {
   "cell_type": "code",
   "execution_count": null,
   "metadata": {
    "cell_id": "00037-b8673c0e-1dfa-4099-98e4-71c88ab47597",
    "deepnote_cell_type": "code",
    "deepnote_to_be_reexecuted": false,
    "execution_millis": 178,
    "execution_start": 1620669440229,
    "source_hash": "6ae11b8a",
    "tags": []
   },
   "outputs": [],
   "source": [
    "sns.histplot(Cdf.sum(axis=1))"
   ]
  },
  {
   "cell_type": "code",
   "execution_count": null,
   "metadata": {
    "cell_id": "00037-868ad4ce-6b1b-4d32-8629-0d0c3eccb385",
    "deepnote_cell_type": "code",
    "deepnote_to_be_reexecuted": false,
    "execution_millis": 210,
    "execution_start": 1620669440408,
    "source_hash": "7f260344",
    "tags": []
   },
   "outputs": [],
   "source": [
    "X = DF.copy()\n",
    "X = X.drop(['Genres', 'Country', 'Language', 'Directors'], axis=1)\n",
    "X['Total Genres'] = Gdf.sum(axis=1)\n",
    "X['Total Countries'] = Cdf.sum(axis=1)\n",
    "X['Total Languages'] = Ldf.sum(axis=1)\n",
    "X['Total Directors'] = Ddf.sum(axis=1)\n",
    "print(X.shape)\n",
    "X.head()"
   ]
  },
  {
   "cell_type": "markdown",
   "metadata": {
    "cell_id": "00050-ecc0801d-daa8-4e89-925d-ff28e6b5ed4d",
    "deepnote_cell_type": "markdown",
    "tags": []
   },
   "source": [
    "We will also replace the `Year` column with `movie_age` for better interpretation."
   ]
  },
  {
   "cell_type": "code",
   "execution_count": null,
   "metadata": {
    "cell_id": "00039-10742fd0-b704-440f-9515-c877e5e30c58",
    "deepnote_cell_type": "code",
    "deepnote_to_be_reexecuted": false,
    "execution_millis": 0,
    "execution_start": 1620669440578,
    "source_hash": "3a217771",
    "tags": []
   },
   "outputs": [],
   "source": [
    "X['movie_age'] = 2020 - X['Year']\n",
    "X = X.drop('Year', axis=1)"
   ]
  },
  {
   "cell_type": "markdown",
   "metadata": {
    "cell_id": "00040-2d79ff82-c20b-4b07-9da4-04497e0333f8",
    "deepnote_cell_type": "text-cell-p",
    "tags": []
   },
   "source": [
    "Age dummy variable:"
   ]
  },
  {
   "cell_type": "code",
   "execution_count": null,
   "metadata": {
    "cell_id": "00041-c2266637-219f-45aa-b1ec-d102dd66c9df",
    "deepnote_cell_type": "code",
    "deepnote_to_be_reexecuted": false,
    "execution_millis": 5,
    "execution_start": 1620669440586,
    "source_hash": "7d3f72a1",
    "tags": []
   },
   "outputs": [],
   "source": [
    "age = pd.get_dummies(X, columns=['Age'])\n",
    "mdf = pd.concat([age, Gdf, CX, LX], axis=1)"
   ]
  },
  {
   "cell_type": "markdown",
   "metadata": {
    "cell_id": "00042-1e87ef8b-232f-4f8b-af6e-9c4922daab7d",
    "deepnote_cell_type": "text-cell-p",
    "tags": []
   },
   "source": [
    "Below is the modified dataset:"
   ]
  },
  {
   "cell_type": "code",
   "execution_count": null,
   "metadata": {
    "cell_id": "00043-293446f7-07f0-4c35-b781-8fd4159be89d",
    "deepnote_cell_type": "code",
    "deepnote_to_be_reexecuted": false,
    "execution_millis": 125,
    "execution_start": 1620669440598,
    "source_hash": "59c2c986",
    "tags": []
   },
   "outputs": [],
   "source": [
    "mdf.head()"
   ]
  },
  {
   "cell_type": "code",
   "execution_count": null,
   "metadata": {
    "cell_id": "00044-3dd17af3-0a40-4152-b0df-38197f64945b",
    "deepnote_cell_type": "code",
    "deepnote_to_be_reexecuted": false,
    "execution_millis": 270,
    "execution_start": 1620669440720,
    "source_hash": "842737c5",
    "tags": []
   },
   "outputs": [],
   "source": [
    "mdf.describe()"
   ]
  },
  {
   "cell_type": "code",
   "execution_count": null,
   "metadata": {
    "cell_id": "00050-9ff5c985-42ea-49de-a854-a7cb090c3444",
    "deepnote_cell_type": "code",
    "deepnote_to_be_reexecuted": false,
    "execution_millis": 72,
    "execution_start": 1620669440979,
    "source_hash": "dc91f765",
    "tags": []
   },
   "outputs": [],
   "source": [
    "Cmat_mdf = mdf.corr()"
   ]
  },
  {
   "cell_type": "code",
   "execution_count": null,
   "metadata": {
    "cell_id": "00051-b2c2165d-fe26-42fc-a80c-9086ea3282e8",
    "deepnote_cell_type": "code",
    "deepnote_to_be_reexecuted": false,
    "execution_millis": 21,
    "execution_start": 1620669441063,
    "source_hash": "78aa233e",
    "tags": []
   },
   "outputs": [],
   "source": [
    "lst = []\n",
    "point = []\n",
    "for i in Cmat_mdf.columns:\n",
    "    for j in Cmat_mdf.columns:\n",
    "        if abs(Cmat_mdf[str(i)][str(j)]) >= 0.4:\n",
    "            if i==j: \n",
    "                pass\n",
    "            else:\n",
    "                temp = str(i) + \",\" + str(j)\n",
    "                if (str(j) + \",\" + str(i)) in lst:\n",
    "                    pass\n",
    "                else:\n",
    "                    lst.append(temp)\n",
    "                    point.append(Cmat_mdf[str(i)][str(j)])\n",
    "        else:\n",
    "            pass"
   ]
  },
  {
   "cell_type": "markdown",
   "metadata": {
    "cell_id": "00058-502c9841-7e25-42f5-8c20-13119f69b82a",
    "deepnote_cell_type": "markdown",
    "tags": []
   },
   "source": [
    "### Pairwise Relationships"
   ]
  },
  {
   "cell_type": "code",
   "execution_count": null,
   "metadata": {
    "cell_id": "00052-c4b3777c-1358-4dc7-bd96-12be51b6accf",
    "deepnote_cell_type": "code",
    "deepnote_to_be_reexecuted": false,
    "execution_millis": 30,
    "execution_start": 1620669441089,
    "source_hash": "70fd4115",
    "tags": []
   },
   "outputs": [],
   "source": [
    "pair_mdf = pd.DataFrame({'row,col': lst, 'corr': point})\n",
    "print(pair_mdf.shape)\n",
    "pair_mdf.head(16)"
   ]
  },
  {
   "cell_type": "markdown",
   "metadata": {
    "cell_id": "00058-f5419d49-0975-49e1-944d-8f5fda53dee7",
    "deepnote_cell_type": "markdown",
    "tags": []
   },
   "source": [
    "The output above shows pairwise correlations for features that have a correlation values of greater than 0.4 or less than -0.4. This shows what features are adequately correlated with one another in both the positive and negative directions. Some features, like `Asia` and `Asian`, make sense that they have a large correlation between them, while others, like `Netflix` and `Prime Video`, are much more interesting. For instance, seeing a strong, negative correlation between the 2 streaming platforms means that there is an inverse relationship between movies in both platforms, meaning that for any movie that is on `Prime Video` there is less chance that `Netflix` will have it, and vice versa. Additionally, seeing a correlation between `Animation` and `Family`, and `Disney+` and `Family` is reassuring as it makes sense for those features to have a positive correlation with one another. In other words, it makes sense that animation films as well as films on Disney+ cater to the family genre. It is also worth noting the high correlations between `North America` and `English`, and `North America` and `Asian` as it wouldn't readily make sense for such relationships to be prevalent. Overall, there seems to be some interesting pairwise relationships within the dataset that may be brought into light as unsupervised learning is applied to the dataset."
   ]
  },
  {
   "cell_type": "code",
   "execution_count": null,
   "metadata": {
    "cell_id": "00052-cdbcc416-5cb9-4d7c-bad6-cbd203d58ccb",
    "deepnote_cell_type": "code",
    "deepnote_to_be_reexecuted": false,
    "execution_millis": 29969,
    "execution_start": 1620669441110,
    "source_hash": "3db7bf7d",
    "tags": []
   },
   "outputs": [],
   "source": [
    "# Strong/Interesting relationships visualized.\n",
    "mdf_rel = mdf[['Netflix', 'Prime Video', 'Disney+', 'Family', 'Total Countries', 'Europe', \n",
    "'Total Languages', 'European', 'North America', 'English', 'Asia', 'Asian']]\n",
    "sns.pairplot(mdf_rel)"
   ]
  },
  {
   "cell_type": "markdown",
   "metadata": {
    "cell_id": "00060-731ddcc0-1e44-4b10-afaf-3f3d4ccf03b6",
    "deepnote_cell_type": "markdown",
    "tags": []
   },
   "source": [
    "Shown above are some pairplots of the different features within the dataset. Unfortunately, since most of the data is encoded as dummy variables, these pairwise relationships do not provide any significant information in terms of the relationship between features. In other words, most of the graphs are 0s or 1s data values, which doesn't follow any conventional correlations. However, from the correlation coefficients found in the previous block of code, there is enough preliminary exploratory data analysis to help drive the unsupervised learning in the next sections."
   ]
  },
  {
   "cell_type": "markdown",
   "metadata": {
    "cell_id": "00061-29131b4b-27ff-44f6-8ef1-c764b40cc2e0",
    "deepnote_cell_type": "markdown",
    "tags": []
   },
   "source": [
    "### Scaling of Dataset"
   ]
  },
  {
   "cell_type": "code",
   "execution_count": null,
   "metadata": {
    "cell_id": "00050-58797406-077f-4def-b596-8a63b6b3926e",
    "deepnote_cell_type": "code",
    "deepnote_to_be_reexecuted": false,
    "execution_millis": 331,
    "execution_start": 1620669471082,
    "source_hash": "8dd862da",
    "tags": []
   },
   "outputs": [],
   "source": [
    "Xs = mdf.copy()\n",
    "Xs = Xs.drop('Title', axis=1)\n",
    "Xs_col = Xs.columns\n",
    "Xs.reset_index(drop=True, inplace=True)\n",
    "Xs = StandardScaler().fit_transform(Xs)\n",
    "Xs = pd.DataFrame(Xs, columns=Xs_col)\n",
    "Xs.describe()"
   ]
  },
  {
   "cell_type": "markdown",
   "metadata": {
    "cell_id": "00063-a743113a-9d8b-4413-af29-22b31bf7f459",
    "deepnote_cell_type": "markdown",
    "tags": []
   },
   "source": [
    "One main issue that was presented in the original dataset was the standard deviation within each feature. Specifically, there seemed to be a large spread among numerical data as well as created dummy variables. Because of this, the dataset was a bit unbalanced and it was much more difficult to derive insights through clustering. To combat this, scaling was applied to the dataset to stabilize the standard deviations of all variables in the dataset. In the table above, most, if not all, features have a standard deviation of about 1, meaning that the dataset was scaled appropriately. "
   ]
  },
  {
   "cell_type": "markdown",
   "metadata": {
    "cell_id": "00064-35985990-a006-4c98-8234-4ea87119f15b",
    "deepnote_cell_type": "markdown",
    "tags": []
   },
   "source": [
    "### Final Data Preparation"
   ]
  },
  {
   "cell_type": "markdown",
   "metadata": {
    "cell_id": "00067-b1c7dd18-cbee-4317-a0da-5004b8a917e4",
    "deepnote_cell_type": "markdown",
    "tags": []
   },
   "source": [
    "The code in this section transforms the `mdf` dataframe into a complete categorical dataset via binning and encoding."
   ]
  },
  {
   "cell_type": "code",
   "execution_count": null,
   "metadata": {
    "cell_id": "00055-841fb892-fb6c-4004-a276-af07e0cb4652",
    "deepnote_cell_type": "code",
    "deepnote_to_be_reexecuted": false,
    "execution_millis": 171,
    "execution_start": 1620669471416,
    "source_hash": "f6d8884f",
    "tags": []
   },
   "outputs": [],
   "source": [
    "mdf_bin = mdf.copy()\n",
    "mdf_bin = mdf_bin.dropna()\n",
    "\n",
    "mdf_bin['runtime_bin'] = pd.cut(mdf_bin['Runtime'], [0, 87, 95, 106, 260],\n",
    "labels=['0-87', '87-95', '95-106', '106-260'], include_lowest=True)\n",
    "mdf_bin['move_age_bin'] = pd.cut(mdf_bin['movie_age'], [0, 10, 20, 30, 40, 50, 60, 70, 80, 90, 100, 110, 120],\n",
    "labels=['0-10', '10-20', '20-30', '30-40', '40-50', '50-60', '60-70', '70-80', '80-90', '90-100', '100-110', '110-120'], include_lowest=True)\n",
    "mdf_bin['imdb_bin'] = pd.cut(mdf_bin['IMDb'], [0, 1, 2, 3, 4, 5, 6, 7, 8, 9, 10],\n",
    "labels=['0-1', '1-2', '2-3', '3-4', '4-5', '5-6', '6-7', '7-8', '8-9', '9-10'], include_lowest=True)\n",
    "\n",
    "mdf_cat = mdf_bin.drop(['Title', 'IMDb', 'Runtime', 'movie_age'], axis=1)\n",
    "\n",
    "lab_enc = preprocessing.LabelEncoder()\n",
    "mdf_cat = mdf_cat.apply(lab_enc.fit_transform)\n",
    "mdf_cat.head()"
   ]
  },
  {
   "cell_type": "code",
   "execution_count": null,
   "metadata": {
    "cell_id": "00055-5ac946bd-891a-4cc3-99c5-6925001f521c",
    "deepnote_cell_type": "code",
    "deepnote_to_be_reexecuted": false,
    "execution_millis": 237,
    "execution_start": 1620669471569,
    "source_hash": "7f6ca5c",
    "tags": []
   },
   "outputs": [],
   "source": [
    "mdf_cat.describe()"
   ]
  },
  {
   "cell_type": "code",
   "execution_count": null,
   "metadata": {
    "cell_id": "00054-4ed2525b-6ba1-4b10-8f5c-dc80ed95bf79",
    "deepnote_cell_type": "code",
    "deepnote_to_be_reexecuted": false,
    "execution_millis": 22,
    "execution_start": 1620669471801,
    "source_hash": "d772de68",
    "tags": []
   },
   "outputs": [],
   "source": [
    "pd.concat([mdf_bin['runtime_bin'],mdf_cat['runtime_bin']], axis=1).drop_duplicates()"
   ]
  },
  {
   "cell_type": "code",
   "execution_count": null,
   "metadata": {
    "cell_id": "00055-b46ca22f-3ecd-4406-a3fa-ea25c0208030",
    "deepnote_cell_type": "code",
    "deepnote_to_be_reexecuted": false,
    "execution_millis": 29,
    "execution_start": 1620669471816,
    "source_hash": "7db418b1",
    "tags": []
   },
   "outputs": [],
   "source": [
    "pd.concat([mdf_bin['move_age_bin'],mdf_cat['move_age_bin']], axis=1).drop_duplicates()"
   ]
  },
  {
   "cell_type": "code",
   "execution_count": null,
   "metadata": {
    "cell_id": "00056-3806c7f4-8828-43be-8ca2-af1819ce07c5",
    "deepnote_cell_type": "code",
    "deepnote_to_be_reexecuted": false,
    "execution_millis": 27,
    "execution_start": 1620669471834,
    "source_hash": "8df24bdc",
    "tags": []
   },
   "outputs": [],
   "source": [
    "pd.concat([mdf_bin['imdb_bin'],mdf_cat['imdb_bin']], axis=1).drop_duplicates()"
   ]
  },
  {
   "cell_type": "markdown",
   "metadata": {
    "cell_id": "00005-5ab456b8-89b4-4e8a-a121-02200afd217b",
    "deepnote_cell_type": "markdown",
    "tags": []
   },
   "source": [
    "## 3. Pre-Analysis Questions"
   ]
  },
  {
   "cell_type": "markdown",
   "metadata": {
    "cell_id": "00053-300e7143-9bec-443e-8b0e-4e69b2c6be73",
    "deepnote_cell_type": "markdown",
    "tags": []
   },
   "source": [
    "### Is the Dataset Clusterable?"
   ]
  },
  {
   "cell_type": "code",
   "execution_count": null,
   "metadata": {
    "cell_id": "00054-f6afca61-5c26-4af4-8520-50c4bd30b896",
    "deepnote_cell_type": "code",
    "deepnote_to_be_reexecuted": false,
    "execution_millis": 5103,
    "execution_start": 1620669471855,
    "source_hash": "6168d675",
    "tags": []
   },
   "outputs": [],
   "source": [
    "num_trials=5\n",
    "hopkins_stats=[]\n",
    "for i in range(0,num_trials):\n",
    "    n = len(Xs)\n",
    "    p = int(0.1 * n)\n",
    "    hopkins_stats.append(hopkins(Xs,p))\n",
    "print(hopkins_stats)"
   ]
  },
  {
   "cell_type": "code",
   "execution_count": null,
   "metadata": {
    "cell_id": "00065-e247b10d-f3f9-45ee-bdfa-018228348ded",
    "deepnote_cell_type": "code",
    "deepnote_to_be_reexecuted": false,
    "execution_millis": 1183,
    "execution_start": 1620669476954,
    "source_hash": "bb212b84",
    "tags": []
   },
   "outputs": [],
   "source": [
    "X = mdf.copy()\n",
    "X = X.drop('Title', axis=1)\n",
    "num_trials=5\n",
    "hopkins_stats=[]\n",
    "for i in range(0,num_trials):\n",
    "    n = len(X)\n",
    "    p = int(0.1 * n)\n",
    "    hopkins_stats.append(hopkins(X,p))\n",
    "print(hopkins_stats)"
   ]
  },
  {
   "cell_type": "code",
   "execution_count": null,
   "metadata": {
    "cell_id": "00066-6070867e-08c7-40dd-a2f5-8178512ceeea",
    "deepnote_cell_type": "code",
    "deepnote_to_be_reexecuted": false,
    "execution_millis": 3446,
    "execution_start": 1620669478132,
    "source_hash": "850ea086",
    "tags": []
   },
   "outputs": [],
   "source": [
    "X = mdf_cat.copy()\n",
    "num_trials=5\n",
    "hopkins_stats=[]\n",
    "for i in range(0,num_trials):\n",
    "    n = len(X)\n",
    "    p = int(0.1 * n)\n",
    "    hopkins_stats.append(hopkins(X,p))\n",
    "print(hopkins_stats)"
   ]
  },
  {
   "cell_type": "code",
   "execution_count": null,
   "metadata": {
    "cell_id": "00054-7c70ddf7-0123-4a45-9a45-904da5cc267f",
    "deepnote_cell_type": "code",
    "deepnote_to_be_reexecuted": false,
    "execution_millis": 0,
    "execution_start": 1620669481559,
    "source_hash": "c44f4b82",
    "tags": []
   },
   "outputs": [],
   "source": [
    "def tsne_df(XDF, DF, PR, RS):\n",
    "    tsne = TSNE(n_components=2, perplexity=PR, random_state=RS)\n",
    "    data_tsne = tsne.fit_transform(XDF)\n",
    "    df_tsne = pd.DataFrame(data_tsne, columns=['x', 'y'], index=XDF.index)\n",
    "    dff = pd.concat([DF, df_tsne], axis=1)\n",
    "    return(dff)\n",
    "\n",
    "def tsne_plot(DFF, W, H, FS):\n",
    "    fig, ax = plt.subplots(figsize=(W, H))\n",
    "    with sns.plotting_context(\"notebook\", font_scale=FS):\n",
    "        sns.scatterplot(x='x', \n",
    "                        y='y', \n",
    "                        sizes=(30, 400),\n",
    "                        data=DFF,\n",
    "                        ax=ax)\n",
    "    ax.set_xlabel(r'$x$')\n",
    "    ax.set_ylabel(r'$y$')\n",
    "    plt.show()\n",
    "\n",
    "def tsne_plot_hue(DFF, W, H, FS, HUE):\n",
    "    fig, ax = plt.subplots(figsize=(W, H))\n",
    "    with sns.plotting_context(\"notebook\", font_scale=FS):\n",
    "        sns.scatterplot(x='x', \n",
    "                        y='y', \n",
    "                        sizes=(30, 400),\n",
    "                        hue=HUE,\n",
    "                        data=DFF,\n",
    "                        ax=ax)\n",
    "    ax.set_xlabel(r'$x$')\n",
    "    ax.set_ylabel(r'$y$')\n",
    "    plt.show()\n"
   ]
  },
  {
   "cell_type": "code",
   "execution_count": null,
   "metadata": {
    "cell_id": "00058-976662ce-6b7b-4e0f-9001-a299bae9aca3",
    "deepnote_cell_type": "code",
    "deepnote_to_be_reexecuted": false,
    "execution_millis": 97841,
    "execution_start": 1620669481565,
    "source_hash": "4fa339ed",
    "tags": []
   },
   "outputs": [],
   "source": [
    "X_cat = mdf_cat.copy()\n",
    "tdf35 = tsne_df(XDF=X_cat, DF=mdf_cat, PR=35, RS=1000)"
   ]
  },
  {
   "cell_type": "code",
   "execution_count": null,
   "metadata": {
    "cell_id": "00059-2aa46d81-e127-4f13-80ed-561f665f3cd7",
    "deepnote_cell_type": "code",
    "deepnote_to_be_reexecuted": false,
    "execution_millis": 100326,
    "execution_start": 1620669579406,
    "source_hash": "3d3b0e11",
    "tags": []
   },
   "outputs": [],
   "source": [
    "tdf45 = tsne_df(XDF=X_cat, DF=mdf_cat, PR=45, RS=1000)"
   ]
  },
  {
   "cell_type": "code",
   "execution_count": null,
   "metadata": {
    "cell_id": "00060-9d175b49-aa66-4f63-8a72-4428a42400f4",
    "deepnote_cell_type": "code",
    "deepnote_to_be_reexecuted": false,
    "execution_millis": 596,
    "execution_start": 1620697464442,
    "source_hash": "a1699b6f",
    "tags": []
   },
   "outputs": [],
   "source": [
    "tsne_plot(DFF=tdf35, W=12, H=8, FS=1.5)"
   ]
  },
  {
   "cell_type": "code",
   "execution_count": null,
   "metadata": {
    "cell_id": "00061-c795de83-32f3-43b8-b91c-956b8f727f8b",
    "deepnote_cell_type": "code",
    "deepnote_to_be_reexecuted": false,
    "execution_millis": 70671,
    "execution_start": 1620669680296,
    "source_hash": "b5f0f699",
    "tags": []
   },
   "outputs": [],
   "source": [
    "Xu = mdf.copy()\n",
    "Xu = Xu.drop('Title', axis=1)\n",
    "tdf35u = tsne_df(XDF=Xu, DF=Xu, PR=35, RS=1000)\n",
    "tsne_plot(DFF=tdf35u, W=12, H=8, FS=1.5)"
   ]
  },
  {
   "cell_type": "markdown",
   "metadata": {
    "cell_id": "00082-07a13fa8-99ca-4a1b-8d16-df2ca9b029c9",
    "deepnote_cell_type": "markdown",
    "tags": []
   },
   "source": [
    "From the analysis above, this dataset is clusterable. The main metric used to deduce the clusterability of the two datasets used in the analysis is the hopkins statistic. After running the algorithm on both datasets, the hopkins statistic provided values ranging from 0.04 and 0.16. The closer the hopkins statistic is to 0, the more clusterable the dataset is, which confirms that both datasets are ready for unsupervised learning. As stated earlier, there are 2 main datasets used in this report: `mdf` and `mdf_cat`. The t-sne plot for `mdf_cat` is shown first and the t-sne plot for `mdf` is shown second. For `mdf_cat`, there seems to be 2 main large clusters with many smaller cluster hovering around it, while `mdf` seems like one large cluster with a few less spherical clusters attached to it. Both clusters seem to have a shape that is approximately spherical with very little separation and cohesion. Additionally, both plots show that the clusters are not balanced in size as some are larger than others, and due to the lack of separation there is a large chance that many of the clusters overlap with one another. Although these plots do not present promising results, the different unsupervised learning algorithms may be able to identify some hidden cluster structures that can shed light on some possible findings in the data."
   ]
  },
  {
   "cell_type": "markdown",
   "metadata": {
    "cell_id": "00006-e600c69d-dbd6-4976-893d-afeaad4d1756",
    "deepnote_cell_type": "markdown",
    "tags": []
   },
   "source": [
    "## 4. Algorithm Selection Motivation"
   ]
  },
  {
   "cell_type": "markdown",
   "metadata": {
    "cell_id": "00084-c7145716-93d5-4b9e-a324-4fd749eb7f5d",
    "deepnote_cell_type": "markdown",
    "tags": []
   },
   "source": [
    "This dataset was heavily dependent on categorical variables with very few numerical attributes. Additionally, there were a large amount of missing data and pre-processing that must be done for the dataset to be usable under any unsupervised modeling. During the processing phase, many of the observations were converted from categorical values to dummy variables as well as encoded into bins and then scaled to be on par with the rest of the features in the dataset. This allowed the dataset to be ready for a categorical based clustering. In fact, this dataset became a perfect specimen for agglomerative hierarchial clustering because of the dummy variables and standardized data. Additionally, since the dataset was categorical heavy, the k-modes algorithm was also chosen to cluster the dataset. Both of these clustering algorithms are known for their efficacy in categorical datasets and tend to give accurate clusterings. This is why they were chosen and implemented in the next section."
   ]
  },
  {
   "cell_type": "markdown",
   "metadata": {
    "cell_id": "00067-973741f2-1890-4b82-9b50-4cc4a088e2e3",
    "deepnote_cell_type": "markdown",
    "tags": []
   },
   "source": [
    "## 5. Algorithm Results"
   ]
  },
  {
   "cell_type": "markdown",
   "metadata": {
    "cell_id": "00068-83a1cb70-5169-42b4-8c46-64a49a5bfdb5",
    "deepnote_cell_type": "markdown",
    "tags": []
   },
   "source": [
    "### Agglomerative Hierarchial Clustering Algorithm"
   ]
  },
  {
   "cell_type": "code",
   "execution_count": null,
   "metadata": {
    "cell_id": "00071-1cbd48c0-17a1-4d4c-a4ed-4a973897a687",
    "deepnote_cell_type": "code",
    "deepnote_to_be_reexecuted": false,
    "execution_millis": 3,
    "execution_start": 1620669750956,
    "source_hash": "89cbb284",
    "tags": []
   },
   "outputs": [],
   "source": [
    "hierarch_df = mdf.copy()\n",
    "hierarch_df = hierarch_df.drop(['Title'], axis = 1)\n",
    "X = mdf.copy()\n",
    "X = X.drop(['Title'], axis = 1)"
   ]
  },
  {
   "cell_type": "code",
   "execution_count": null,
   "metadata": {
    "cell_id": "00071-a4d3cfe9-e9f5-40a0-a958-a8059a862fbc",
    "deepnote_cell_type": "code",
    "deepnote_to_be_reexecuted": false,
    "execution_millis": 180003,
    "execution_start": 1620669750971,
    "source_hash": "c3f2d25a",
    "tags": []
   },
   "outputs": [],
   "source": [
    "nb_clusters = range(2,15)\n",
    "linkages = ['single', 'complete', 'ward', 'average']\n",
    "\n",
    "silhouette_scores = np.zeros(shape = (len(linkages),len(nb_clusters)))\n",
    "\n",
    "for i,l in enumerate(linkages):\n",
    "    for j,nbc in enumerate(nb_clusters):\n",
    "        ag = AgglomerativeClustering(n_clusters=nbc, affinity='euclidean', linkage=l)\n",
    "        Y_pred = ag.fit_predict(hierarch_df)\n",
    "        sls = silhouette_score(hierarch_df,Y_pred,random_state=1002)\n",
    "        silhouette_scores[i,j] = sls\n",
    "\n",
    "for i in range(len(nb_clusters)):\n",
    "    plt.plot(silhouette_scores[:,i])\n",
    "    plt.ylabel('Silhouette Score', fontsize = 14)\n",
    "    plt.title('Number of Clusters:' + str(nb_clusters[i]), fontsize = 14)\n",
    "    plt.xticks(np.arange(len(linkages)), linkages)\n",
    "    plt.show()\n"
   ]
  },
  {
   "cell_type": "code",
   "execution_count": null,
   "metadata": {
    "cell_id": "00069-5174ca09-d0a2-4db7-9644-c945f5794d74",
    "deepnote_cell_type": "code",
    "deepnote_to_be_reexecuted": false,
    "execution_millis": 23,
    "execution_start": 1620669930969,
    "source_hash": "7198a1b2",
    "tags": []
   },
   "outputs": [],
   "source": [
    "sil_df = pd.DataFrame(silhouette_scores)\n",
    "sil_df = sil_df.rename(columns={0:'2 Clusters', 1:'3 Clusters', 2:'4 Clusters', 3:'5 Clusters', 4:'6 Clusters', 5:'7 Clusters', 6:'8 Clusters', 7:'9 Clusters', 8:'10 Clusters', 9:'11 Clusters', 10:'12 Clusters', 11:'13 Clusters', 12:'14 Clusters'})\n",
    "sil_df = sil_df.rename(index={0:'Single', 1:'Complete', 2:'Ward', 3:'Average'})\n",
    "print(np.max(sil_df, axis=1))\n",
    "print(sil_df.idxmax(axis=0, skipna=True))\n",
    "sil_df.head()"
   ]
  },
  {
   "cell_type": "markdown",
   "metadata": {
    "cell_id": "00073-2b77762f-fd9a-432b-aaf0-8402e5578a69",
    "deepnote_cell_type": "markdown",
    "tags": []
   },
   "source": [
    "From the results shown above, several silhouette scores were computed based on 4 different linkages: single, complete, ward and average. From the summary table, it is apparent that the single linkage was the most dominant linkage for the agglomerative hierarchial clustering. These high scores indicate the best linkage option as well as the best number of clusters. Based on the silhouette scores alone, it seem that a single linkage with 2 clusters is perfect for the agglomerative hierarchial clustering algorithm. The next best option was average linkage and then complete linkage. Each linkage has its pros and cons for clustering, so a great next step would be to visualize the most predominant linkages on a t-sne plot over a range of clusterings to see what is the best option for the agglomerative hierarchial clustering."
   ]
  },
  {
   "cell_type": "code",
   "execution_count": null,
   "metadata": {
    "cell_id": "00074-c98315e4-3eeb-429b-be6d-606ae5118462",
    "deepnote_cell_type": "code",
    "deepnote_to_be_reexecuted": false,
    "execution_millis": 2679,
    "execution_start": 1620669930983,
    "source_hash": "a105f5b3",
    "tags": []
   },
   "outputs": [],
   "source": [
    "dm = pdist(hierarch_df,metric='euclidean')\n",
    "Z = linkage(dm, method='complete')\n",
    "fig,ax = plt.subplots(figsize = (25,20))\n",
    "d = dendrogram(Z,orientation = 'right', truncate_mode='lastp', p=80, no_labels=True, ax=ax)\n",
    "ax.set_xlabel('Dissimilarity', fontsize = 18)\n",
    "ax.set_ylabel('Samples (80 Leaves)', fontsize = 18)\n",
    "plt.show()"
   ]
  },
  {
   "cell_type": "code",
   "execution_count": null,
   "metadata": {
    "cell_id": "00075-b18691ef-f31e-437f-95fd-6d6cabbc5ea0",
    "deepnote_cell_type": "code",
    "deepnote_to_be_reexecuted": false,
    "execution_millis": 105238,
    "execution_start": 1620669933671,
    "source_hash": "56c7f561",
    "tags": []
   },
   "outputs": [],
   "source": [
    "tdf35 = tsne_df(XDF=X, DF=mdf, PR=35, RS=1000)\n",
    "for n in range(2,15):\n",
    "    ag = AgglomerativeClustering(n_clusters=n, affinity='euclidean', linkage='complete')\n",
    "    Y_pred = ag.fit_predict(hierarch_df)\n",
    "    df_pred = pd.Series(Y_pred, name='Cluster', index = hierarch_df.index)\n",
    "    pdff = pd.concat([tdf35,df_pred], axis = 1)\n",
    "\n",
    "    sns.scatterplot(x = 'x', y = 'y', hue='Cluster', palette=sns.color_palette('husl', n), data = pdff)\n",
    "    plt.title('T-SNE Plot Color Coded by Complete Linkage Hierarchial Clustering')\n",
    "    plt.legend(bbox_to_anchor = (1,1))\n",
    "    plt.show()\n"
   ]
  },
  {
   "cell_type": "markdown",
   "metadata": {
    "cell_id": "00075-51bcafc2-d484-4f73-995e-2b7926c65252",
    "deepnote_cell_type": "markdown",
    "tags": []
   },
   "source": [
    "The first option to be explored was the complete linkage over 2-14 different clusters. Firstly, the dendogram is created based on the data (`mdf`) used for the hierarchial clustering. From the dendogram, it is apparent that the relationships/clusters are evenly spread out, hinting that there is a balanced cluster structure. After around 4 clusters, the dendogram produces really small clusters, which may be more useful for identifying outlier groups in the dataset. From the t-sne plots, it is evident that the agglomerative hierarchial clustering algorithm with complete linkage tends to break down the main big cluster into smaller subsets. This means that the algorithm may not be able to identify the main clusters in the dataset."
   ]
  },
  {
   "cell_type": "code",
   "execution_count": null,
   "metadata": {
    "cell_id": "00076-b3c6c7fc-0ff4-4640-a0c2-bd36f99021a3",
    "deepnote_cell_type": "code",
    "deepnote_to_be_reexecuted": false,
    "execution_millis": 1596,
    "execution_start": 1620670038898,
    "source_hash": "adec7998",
    "tags": []
   },
   "outputs": [],
   "source": [
    "dm = pdist(hierarch_df,metric='euclidean')\n",
    "Z = linkage(dm, method='single')\n",
    "fig,ax = plt.subplots(figsize = (25,20))\n",
    "d = dendrogram(Z,orientation = 'right', truncate_mode='lastp', p=80, no_labels=True, ax=ax)\n",
    "ax.set_xlabel('Dissimilarity', fontsize = 18)\n",
    "ax.set_ylabel('Samples (80 Leaves)', fontsize = 18)\n",
    "plt.show()"
   ]
  },
  {
   "cell_type": "code",
   "execution_count": null,
   "metadata": {
    "cell_id": "00074-1812ce2a-548d-4fd3-8ad0-83b7f1fd025c",
    "deepnote_cell_type": "code",
    "deepnote_to_be_reexecuted": false,
    "execution_millis": 98775,
    "execution_start": 1620670040501,
    "source_hash": "fe757081",
    "tags": []
   },
   "outputs": [],
   "source": [
    "tdf35 = tsne_df(XDF=X, DF=mdf, PR=35, RS=1000)\n",
    "for n in range(2,15):\n",
    "    ag = AgglomerativeClustering(n_clusters=n, affinity='euclidean', linkage='single')\n",
    "    Y_pred = ag.fit_predict(hierarch_df)\n",
    "    df_pred = pd.Series(Y_pred, name='Cluster', index = hierarch_df.index)\n",
    "    pdff = pd.concat([tdf35,df_pred], axis = 1)\n",
    "\n",
    "    sns.scatterplot(x = 'x', y = 'y', hue='Cluster', palette=sns.color_palette('husl', n), data = pdff)\n",
    "    plt.title('T-SNE Plot Color Coded by Single Linkage Hierarchial Clustering')\n",
    "    plt.legend(bbox_to_anchor = (1,1))\n",
    "    plt.show()"
   ]
  },
  {
   "cell_type": "markdown",
   "metadata": {
    "cell_id": "00075-857b6237-bb8b-4979-9ce4-12d315ad923b",
    "deepnote_cell_type": "markdown",
    "tags": []
   },
   "source": [
    "The second option to be explored was the single linkage over 2-14 different clusters. Firstly, the dendogram is created based on the data (`mdf`) used for the hierarchial clustering. From the dendogram, it is apparent that the relationships/clusters do not provide well-balanced clusters at the 2-4 cluster levels. After around 4 clusters, the dendogram produces really small clusters, which may be more useful for identifying outlier groups in the dataset. From the t-sne plots, it is evident that the agglomerative hierarchial clustering algorithm with single linkage tends to identify only a few observations per cluster. In other words, the single linkage hierarchial clustering is finding outlier cluster groups within the dataset. This means that the algorithm may not be able to identify the main clusters in the dataset. "
   ]
  },
  {
   "cell_type": "code",
   "execution_count": null,
   "metadata": {
    "cell_id": "00076-2e01deb3-0ea3-45ee-9713-c4f62552292a",
    "deepnote_cell_type": "code",
    "deepnote_to_be_reexecuted": false,
    "execution_millis": 2747,
    "execution_start": 1620670139267,
    "source_hash": "dfdd2528",
    "tags": []
   },
   "outputs": [],
   "source": [
    "dm = pdist(hierarch_df,metric='euclidean')\n",
    "Z = linkage(dm, method='average')\n",
    "fig,ax = plt.subplots(figsize = (25,20))\n",
    "d = dendrogram(Z,orientation = 'right', truncate_mode='lastp', p=80, no_labels=True, ax=ax)\n",
    "ax.set_xlabel('Dissimilarity', fontsize = 18)\n",
    "ax.set_ylabel('Samples (80 Leaves)', fontsize = 18)\n",
    "plt.show()"
   ]
  },
  {
   "cell_type": "code",
   "execution_count": null,
   "metadata": {
    "cell_id": "00077-9cd160a8-9819-4d83-b3f3-8e8592174c49",
    "deepnote_cell_type": "code",
    "deepnote_to_be_reexecuted": false,
    "execution_millis": 107025,
    "execution_start": 1620670142020,
    "source_hash": "96751082",
    "tags": []
   },
   "outputs": [],
   "source": [
    "tdf35 = tsne_df(XDF=X, DF=mdf, PR=35, RS=1000)\n",
    "for n in range(2,15):\n",
    "    ag = AgglomerativeClustering(n_clusters=n, affinity='euclidean', linkage='average')\n",
    "    Y_pred = ag.fit_predict(hierarch_df)\n",
    "    df_pred = pd.Series(Y_pred, name='Cluster', index = hierarch_df.index)\n",
    "    pdff = pd.concat([tdf35,df_pred], axis = 1)\n",
    "\n",
    "    sns.scatterplot(x = 'x', y = 'y', hue='Cluster', palette=sns.color_palette('husl', n), data = pdff)\n",
    "    plt.title('T-SNE Plot Color Coded by Average Linkage Hierarchial Clustering')\n",
    "    plt.legend(bbox_to_anchor = (1,1))\n",
    "    plt.show()"
   ]
  },
  {
   "cell_type": "markdown",
   "metadata": {
    "cell_id": "00078-2941bcd9-fa83-41c0-9687-743f0f8f0a28",
    "deepnote_cell_type": "markdown",
    "tags": []
   },
   "source": [
    "The last option to be explored was the average linkage over 2-14 different clusters. Firstly, the dendogram is created based on the data (`mdf`) used for the hierarchial clustering. From the dendogram, it is apparent that the relationships/clusters are more evenly spread out than that of the single linkage hierarchial clustering, hinting that there is a balanced cluster structure. After around 4 clusters, the dendogram produced really small clusters, which may be more useful for identifying outlier groups in the dataset. From the t-sne plots, it is evident that the agglomerative hierarchial clustering algorithm with average linkage tends to identify only a few observations per cluster. In other words, the single linkage hierarchial clustering is finding outlier cluster groups within the dataset. However, as the cluster number increases to about 10, the clusters made by average linkage start to get larger and the underlying cluster structure of the dataset is brought to light. But,this means that the algorithm may not efficiently be able to identify the main clusters in the dataset. "
   ]
  },
  {
   "cell_type": "code",
   "execution_count": null,
   "metadata": {
    "cell_id": "00078-b473d73f-fc76-478e-bd56-c44b2a309b4d",
    "deepnote_cell_type": "code",
    "deepnote_to_be_reexecuted": false,
    "execution_millis": 5439,
    "execution_start": 1620687598186,
    "source_hash": "8a1f0931",
    "tags": []
   },
   "outputs": [],
   "source": [
    "ag = AgglomerativeClustering(n_clusters= 5, affinity='euclidean', linkage='complete')\n",
    "Y_pred = ag.fit_predict(hierarch_df)\n",
    "df_pred = pd.Series(Y_pred, name='Cluster', index = hierarch_df.index)\n",
    "pdff = pd.concat([tdf35,df_pred], axis = 1)\n",
    "\n",
    "sns.scatterplot(x = 'x', y = 'y', hue='Cluster', palette=sns.color_palette('husl', 5), data = pdff)\n",
    "plt.title('T-SNE Plot Color Coded by Complete Linkage Hierarchial Clustering')\n",
    "plt.legend(bbox_to_anchor = (1,1))\n",
    "plt.show()"
   ]
  },
  {
   "cell_type": "markdown",
   "metadata": {
    "cell_id": "00089-9d48c076-0537-4a4e-a5eb-2c2d6425e576",
    "deepnote_cell_type": "markdown",
    "tags": []
   },
   "source": [
    "Overall, the options given by the t-sne plots as well as the dendograms provided a large amount of insight into choosing an adequate linkage. After an in-depth analysis, it seems that a complete linkage with 5 clusters produces decently sized clusters for the given dataset. Given the results of the dendogram, the complete linkage tended to have the most balanced lines and clusters, hinting that it would perform more effectively than the other linkages. Additionally, the sizes of each cluster has a large amount of observations in each, implying that more concrete conclusions can be made from the unsupervised learning method. All in all, agglomerative hierarchial clustering with a complete linkage using 5 clusters produces the best visual t-sne and dendogram results and will be used to derive insights from the data."
   ]
  },
  {
   "cell_type": "markdown",
   "metadata": {
    "cell_id": "00078-a6362e3c-184b-4022-bb23-1bf1dd80529d",
    "deepnote_cell_type": "markdown",
    "tags": []
   },
   "source": [
    "### K-modes Clustering Algorithm"
   ]
  },
  {
   "cell_type": "code",
   "execution_count": null,
   "metadata": {
    "cell_id": "00079-a8ea163f-e574-439b-b1e2-043980d725dd",
    "deepnote_cell_type": "code",
    "deepnote_to_be_reexecuted": false,
    "execution_millis": 230477,
    "execution_start": 1620670251939,
    "source_hash": "2bd5056d",
    "tags": []
   },
   "outputs": [],
   "source": [
    "cost = []\n",
    "for num_clusters in list(range(1,10)):\n",
    "    print(num_clusters)\n",
    "    cost_sub_list=[]\n",
    "    for j in range(0,3):\n",
    "        kmode = KModes(n_clusters=num_clusters)\n",
    "        kmode.fit_predict(mdf_cat)\n",
    "        cost_sub_list.append(kmode.cost_)\n",
    "    cost.append(np.average(cost_sub_list))"
   ]
  },
  {
   "cell_type": "code",
   "execution_count": null,
   "metadata": {
    "cell_id": "00080-9b21a888-de70-4190-894f-89d805267da0",
    "deepnote_cell_type": "code",
    "deepnote_to_be_reexecuted": false,
    "execution_millis": 165,
    "execution_start": 1620670482423,
    "source_hash": "dc8d4908",
    "tags": []
   },
   "outputs": [],
   "source": [
    "plt.plot(list(range(1,10)),cost)\n",
    "plt.xlabel('Number of Clusters')\n",
    "plt.ylabel('Cost')\n",
    "plt.title('Elbow Method for k-Modes')\n",
    "plt.show()"
   ]
  },
  {
   "cell_type": "markdown",
   "metadata": {
    "cell_id": "00095-d7c3df2e-1d26-4420-813d-7d9dd3d066de",
    "deepnote_cell_type": "markdown",
    "tags": []
   },
   "source": [
    "Now moving on to the k-modes clustering algorithm, it is necessary to investigate the optimal number of clusters for the unsupervised learning technique. Since, k-modes is optimal for categorical data, it should be especially effective for clustering this dataset. Using a `for` loop, the costs of the k-modes algorithm can be found for a range of clusters. The costs are then plotted to find the elbow plot shown above. Through several iterations, it was found that the elbow was between 4-6 clusters, hinting that anything in that range should yield positive results for the k-modes algorithm. Hence, for this unsupervised learning technique, 5 clusters were chosen for the k-modes algorithm."
   ]
  },
  {
   "cell_type": "code",
   "execution_count": null,
   "metadata": {
    "cell_id": "00081-a751515e-4c84-48c9-8721-7a541e2c683b",
    "deepnote_cell_type": "code",
    "deepnote_to_be_reexecuted": false,
    "execution_millis": 7212,
    "execution_start": 1620670482582,
    "source_hash": "8a30c3b5",
    "tags": []
   },
   "outputs": [],
   "source": [
    "km = KModes(n_clusters=5,random_state=1000)\n",
    "cluster_labels = km.fit_predict(mdf_cat)\n",
    "mdf_cat['predicted_cluster']=cluster_labels\n",
    "mdf_cat['predicted_cluster'].value_counts()"
   ]
  },
  {
   "cell_type": "code",
   "execution_count": null,
   "metadata": {
    "cell_id": "00087-613bfb00-d6ce-4947-a9e5-92c5e549ca34",
    "deepnote_cell_type": "code",
    "deepnote_to_be_reexecuted": false,
    "execution_millis": 94201,
    "execution_start": 1620670489790,
    "source_hash": "4098dd1",
    "tags": []
   },
   "outputs": [],
   "source": [
    "X_cat = mdf_cat.copy()\n",
    "X_cat = X_cat.drop('predicted_cluster', axis=1)\n",
    "tdf_kmode = tsne_df(XDF=X_cat, DF=mdf_cat, PR=35, RS=1000)"
   ]
  },
  {
   "cell_type": "code",
   "execution_count": null,
   "metadata": {
    "cell_id": "00088-a4297c0a-9667-4c98-8c75-8b274d98a865",
    "deepnote_cell_type": "code",
    "deepnote_to_be_reexecuted": false,
    "execution_millis": 744,
    "execution_start": 1620670584035,
    "source_hash": "2350f10b",
    "tags": []
   },
   "outputs": [],
   "source": [
    "tsne_plot_hue(DFF=tdf_kmode, W=12, H=8, FS=1.5, HUE = 'predicted_cluster')"
   ]
  },
  {
   "cell_type": "markdown",
   "metadata": {
    "cell_id": "00099-09e6e822-c98f-4853-92da-b0a2552b723b",
    "deepnote_cell_type": "markdown",
    "tags": []
   },
   "source": [
    "From the t-sne plot above, the k-modes algorithm did a suboptimal job in clustering the dataset. For the most part, the clusters are quite spread out with observations protruding into other cluster groups. Additionally, there does not seem to be a lot of cohesion and separation among clusters, which could cause observations to be placed in the wrong cluster labels. However, overall the clusters seem to be pretty defined and each has a large amount of observations, which could yield insightful results."
   ]
  },
  {
   "cell_type": "markdown",
   "metadata": {
    "cell_id": "00008-64a952e5-0dfc-4add-845a-9b31892c3503",
    "deepnote_cell_type": "markdown",
    "tags": []
   },
   "source": [
    "## 6. Post-Analysis Questions"
   ]
  },
  {
   "cell_type": "markdown",
   "metadata": {
    "cell_id": "00088-806bfcf5-0fbd-425b-8b42-39a505728de2",
    "deepnote_cell_type": "markdown",
    "tags": []
   },
   "source": [
    "### Separation and Cohesion"
   ]
  },
  {
   "cell_type": "code",
   "execution_count": null,
   "metadata": {
    "cell_id": "00097-37acb2b6-bb60-4ba4-87c7-8dbeb8291688",
    "deepnote_cell_type": "code",
    "deepnote_to_be_reexecuted": false,
    "execution_millis": 3,
    "execution_start": 1620670584762,
    "source_hash": "d05790f5",
    "tags": []
   },
   "outputs": [],
   "source": [
    "def create_silhouette_plot(X, cluster_labels):\n",
    "    #------------------------------------------------------\n",
    "    #INPUT:\n",
    "    #-----------------------------------------------------\n",
    "    #X=dataframe of objects you clusterted\n",
    "    #cluster_labels=cluster labels of each of the objects in the dataset X that you just clustered \n",
    "\n",
    "    #Gets the unique labels in the cluster_labels\n",
    "    clabels=np.unique(cluster_labels)\n",
    "    #Gets the number of unique labels\n",
    "    k=len(clabels)\n",
    "    \n",
    "    #-------------------------------------------------------\n",
    "    #SETTING UP THE PLOT SPACE\n",
    "    # Create a subplot with 1 row and 1 columns\n",
    "    fig, ax1 = plt.subplots(1, 1)\n",
    "    fig.set_size_inches(18, 7)\n",
    "    # The 1st subplot is the silhouette plot\n",
    "    # The silhouette coefficient can range from -1, 1 but in this example all\n",
    "    # lie within [-0.1, 1]\n",
    "    ax1.set_xlim([-0.1, 1])\n",
    "    # The (k+1)*10 is for inserting blank space between silhouette\n",
    "    # plots of individual clusters, to demarcate them clearly.\n",
    "    ax1.set_ylim([0, len(X) + (k + 1) * 10])\n",
    "\n",
    "    #FINDS THE SILHOUETTE SCORE FOR EACH OBJECT\n",
    "    sample_silhouette_values = silhouette_samples(X, cluster_labels)\n",
    "\n",
    "    y_lower = 10\n",
    "\n",
    "    \n",
    "    for i in clabels:\n",
    "        # Aggregate the silhouette scores for samples belonging to\n",
    "        # cluster i, and sort them\n",
    "        ith_cluster_silhouette_values = \\\n",
    "            sample_silhouette_values[cluster_labels == i]\n",
    "\n",
    "        ith_cluster_silhouette_values.sort()\n",
    "\n",
    "        size_cluster_i = ith_cluster_silhouette_values.shape[0]\n",
    "        y_upper = y_lower + size_cluster_i\n",
    "\n",
    "        color = cm.nipy_spectral(float(i) / k)\n",
    "        ax1.fill_betweenx(np.arange(y_lower, y_upper),\n",
    "                          0, ith_cluster_silhouette_values,\n",
    "                          facecolor=color, edgecolor=color, alpha=0.7)\n",
    "\n",
    "        # Label the silhouette plots with their cluster numbers at the middle\n",
    "        ax1.text(-0.05, y_lower + 0.5 * size_cluster_i, str(i))\n",
    "\n",
    "        # Compute the new y_lower for next plot\n",
    "        y_lower = y_upper + 10  # 10 for the 0 samples\n",
    "\n",
    "    ax1.set_title(\"The silhouette plot for the various clusters.\")\n",
    "    ax1.set_xlabel(\"The silhouette coefficient values\")\n",
    "    ax1.set_ylabel(\"Cluster label\")\n",
    "\n",
    "    plt.show()"
   ]
  },
  {
   "cell_type": "code",
   "execution_count": null,
   "metadata": {
    "cell_id": "00097-fe1c8c22-7aea-4abb-ab01-74c590eef2b9",
    "deepnote_cell_type": "code",
    "deepnote_to_be_reexecuted": false,
    "execution_millis": 3873,
    "execution_start": 1620670584765,
    "source_hash": "c4cea1fd",
    "tags": []
   },
   "outputs": [],
   "source": [
    "ag = AgglomerativeClustering(n_clusters= 5, affinity='euclidean', linkage='complete')\n",
    "Y_pred = ag.fit_predict(hierarch_df)\n",
    "create_silhouette_plot(hierarch_df, Y_pred)"
   ]
  },
  {
   "cell_type": "markdown",
   "metadata": {
    "cell_id": "00089-a607e519-0335-4254-bc42-690f59999323",
    "deepnote_cell_type": "markdown",
    "tags": []
   },
   "source": [
    "From the silhouette plot above, it is apparent that each cluster from the agglomerative hierarchial clustering with complete linkage and 5 clusters had very good silhouette scores. In fact, most of the scores were positive and closer to 1 (most were greater than or equalled to 0.5), which hints that there is better separation and cohesion in the assigned clusters. There seems to be a large number of points in the cluster 4 that have negative silhouette scores, meaning that they are less cohesive and less separated from the other observations in the other clusters. Overall, the agglomerative hierarchial clustering with complete linkage provided very cohesive and well separated clusters."
   ]
  },
  {
   "cell_type": "code",
   "execution_count": null,
   "metadata": {
    "cell_id": "00099-4f2731a9-b033-4c6a-b685-7d216866ed53",
    "deepnote_cell_type": "code",
    "deepnote_to_be_reexecuted": false,
    "execution_millis": 9020,
    "execution_start": 1620670588618,
    "source_hash": "b68e00f3",
    "tags": []
   },
   "outputs": [],
   "source": [
    "km = KModes(n_clusters=5,random_state=1000)\n",
    "cluster_labels = km.fit_predict(mdf_cat)\n",
    "create_silhouette_plot(mdf_cat, cluster_labels)"
   ]
  },
  {
   "cell_type": "markdown",
   "metadata": {
    "cell_id": "00100-11705af2-054b-4117-969f-af94ab1020b3",
    "deepnote_cell_type": "markdown",
    "tags": []
   },
   "source": [
    "From the silhouette plot above, it is apparent that each cluster from the k-modes clustering algorithm with 5 clusters had very mediocre silhouette scores. In fact, most of the scores were positive but were much closer to 0 than 1 (most were less than 0.4). This means that the clusters were very averagely cohesive and separated with respect to the dataset. Each of the clusters had numerous observations that dipped into a negative silhouette score, which is indicative of poor cohesion and separation. This isn't too appalling as the t-sne plots showed how spread out each cluster was and how it interfered with other clusters in the dataset. Overall, the k-modes clustering with 5 clusters provided very average cohesion and separation. "
   ]
  },
  {
   "cell_type": "markdown",
   "metadata": {
    "cell_id": "00089-f2608a06-3a18-4793-95e9-b80e703e63fd",
    "deepnote_cell_type": "markdown",
    "tags": []
   },
   "source": [
    "### Cluster Attributes"
   ]
  },
  {
   "cell_type": "code",
   "execution_count": null,
   "metadata": {
    "cell_id": "00091-ebf14f14-c636-4fd8-bdb4-9a717ce2dffc",
    "deepnote_cell_type": "code",
    "deepnote_to_be_reexecuted": false,
    "execution_millis": 17680,
    "execution_start": 1620670597629,
    "source_hash": "72706158",
    "tags": []
   },
   "outputs": [],
   "source": [
    "ag = AgglomerativeClustering(n_clusters=5, affinity='euclidean', linkage='complete')\n",
    "hierarch_df2 = mdf.copy()\n",
    "hierarch_df2 = hierarch_df2.drop(['Title'], axis = 1)\n",
    "Y_pred = ag.fit_predict(hierarch_df2)\n",
    "cluster_labels = Y_pred\n",
    "mdf_cat['predicted_cluster']=cluster_labels\n",
    "\n",
    "for i in mdf_cat.columns:\n",
    "    ctab = pd.crosstab(mdf_cat[i], mdf_cat['predicted_cluster'])\n",
    "    print(ctab)\n",
    "    print(ctab / ctab.sum())\n",
    "    ctab.plot.bar()\n",
    "    plt.title('{}'.format(i))\n",
    "    plt.xlabel(i)\n",
    "    plt.show()"
   ]
  },
  {
   "cell_type": "code",
   "execution_count": null,
   "metadata": {
    "cell_id": "00093-f7597a2e-9357-412e-9197-a6784a832833",
    "deepnote_cell_type": "code",
    "deepnote_to_be_reexecuted": false,
    "execution_millis": 24912,
    "execution_start": 1620670615306,
    "source_hash": "a8a35a4e",
    "tags": []
   },
   "outputs": [],
   "source": [
    "# KModes plots\n",
    "km = KModes(n_clusters=5,random_state=1000)\n",
    "cluster_labels = km.fit_predict(mdf_cat)\n",
    "mdf_cat['predicted_cluster']=cluster_labels\n",
    "\n",
    "for i in mdf_cat.columns:\n",
    "    ctab = pd.crosstab(mdf_cat[i], mdf_cat['predicted_cluster'])\n",
    "    print(ctab)\n",
    "    print(ctab / ctab.sum())\n",
    "    ctab.plot.bar()\n",
    "    plt.title('{}'.format(i))\n",
    "    plt.xlabel(i)\n",
    "    plt.show()\n",
    "\n",
    "# ctab = pd.crosstab(mdf_cat['Netflix'], mdf_cat['predicted_cluster'])\n",
    "# print(ctab)\n",
    "# print(ctab / ctab.sum())\n",
    "# ctab.plot.bar()"
   ]
  },
  {
   "cell_type": "markdown",
   "metadata": {
    "cell_id": "00094-b0fb2457-840d-41da-970e-41da84922c45",
    "deepnote_cell_type": "markdown",
    "tags": []
   },
   "source": [
    "### Description of Clustering Attributes for both Algorithms\n",
    "\n",
    "#### Agglomerative Hierarchical Clustering\n",
    "\n",
    "##### Highlight Summary\n",
    "\n",
    "* Cluster 0:\n",
    "    * Mostly available on Netflix and Prime Video. There are more genres per movie. The movies are mostly available in 1 country and 1-2 languages, and mostly directed by 1 director. Movies in this cluster target the Young/Adolescent/Adult audience. Drama, Romance, and Action are popular genres. These movies are mostly available in Asia and in Asian languages and some English. All movies are in the Regular-Short (1.5 hours) range. Most movies were made in the last 20 years. Average IMDb ratings in the 6-8 stars range.\n",
    "* Cluster 1:\n",
    "    * Mostly available on Netflix and Prime Video. There are more genres per movie. The movies are mostly available in 1 country and 1-2 languages, and mostly directed by 1 director. Movies in this cluster target the Young/Adolescent/Adult audience. Drama, Comedy, and Action are popular genres. These movies are mostly available in North America, Europe, and Asia and in English, European, and Asian languages. All movies are in the Regular-Short (1.5 hours) range. Most movies were made in the last 20 years. Average IMDb ratings in the 6-8 stars range.\n",
    "* Cluster 2:\n",
    "    * Mostly available on Prime Video. There are less genres per movie. The movies are mostly available in 1 country and language, and mostly directed by 1 director. Movies in this cluster target the Young/All ages audience. Western, Drama, and Comedy are popular genres. These movies are mostly available in North America and in English. Most movies are in the Short (0-1.5 hours) range. Most movies were made 60-90 years ago. Average IMDb ratings in the 5-7 stars range.\n",
    "* Cluster 3:\n",
    "    * Mostly available on Netflix and Prime Video. There are less genres per movie. The movies are mostly available in 1 country and language, and mostly directed by 1 director. Movies in this cluster target the Young/All/Adult audience. Comedy, Documentary, and Short are popular genres. These movies are mostly available in North America and in English. All movies are in the Short (0-1.5 hours) range. Most movies were made in the last 20 years. Average IMDb ratings in the 6-8 stars range.\n",
    "* Cluster 4:\n",
    "    * Mostly available on Netflix and Prime Video. There are less genres per movie. The movies are mostly available in 1 country and language, and mostly directed by 1 director. Movies in this cluster target the Adult audience and some younger audiences. Drama, Comedy, and Thriller are popular genres. These movies are mostly available in North America and Europe and in English. There’s a wide-range of movie lengths but slightly more in the Regular-Long (1.5-1.75 hours) range. Most movies were made in the last 20 years. Average IMDb ratings in the 5-7 stars range.\n",
    "\n",
    "##### Exhaustive Summary\n",
    "\n",
    "Cluster 0:\n",
    " \n",
    "* Streaming Platforms\n",
    "    * Netflix (40.2%), Hulu (2.4%), Prime Video (61.2%), Disney+ (2.9%).\n",
    "* Total Genres, Countries, Languages, and Directors\n",
    "    * Total Genres (2: 23.4%, 3: 38.8%, 4: 21.1%).\n",
    "    * Total Countries (1: 89.0%, 2: 7.7%).\n",
    "    * Total Languages (1: 62.2%, 2: 20.1%).\n",
    "    * Total Directors (1: 94.3%, 2: 4.3%).\n",
    "* Age ratings\n",
    "    * All ages (19.1%), 7+ (31.1%), 13+ (25.8%), 16+ (2.4%), 18+ (21.5%).\n",
    "* Genres\n",
    "    * Action (34.5%), Adventure (8.6%), Sci-Fi (4.3%), Thriller (20.6%), Comedy (31.1%), Western (1.9%), Animation (0.5%), Family (7.7%), Biography (7.7%), Drama (78.0%), Music (2.9%), War (7.2%), Crime (12.9%), Fantasy (5.7%), Romance (36.8%), History (9.1%), Mystery (4.8%), Sport (3.3%), Documentary (1.0%), Musical (14.4%), News (0%), Horror (1.9%), Short (0%), Film-Noir (0%), Reality TV (0%).\n",
    "* Available Regions\n",
    "    * North America (22.5%), South America (0%), Europe (14.4%), Asia (71.3%), Australia & Pacific (1.0%), Africa (0%).\n",
    "* Available Languages\n",
    "    * English (39.2%), French (10.0%), Spanish (4.3%), Arabic (1.0%), Portuguese (0.5%), North American (0%), South American (0%), European (15.3%), Asian (75.1%), Australian & Pacific (0%), African (1.0%), Sign Language (1.0%), Other (0.5%).\n",
    "* Runtime Length\n",
    "    * Short (0%), Regular-Short (100%), Regular-Long (0%), Long (0%).\n",
    "* Movie Age\n",
    "    * 0-10 years (44.0%), 10-20 years (37.3%).\n",
    "* IMDb rating\n",
    "    * 6-7 stars (27.3%), 7-8 stars (31.6%).\n",
    "\n",
    "Cluster 1:\n",
    "\n",
    "* Streaming Platforms\n",
    "    * Netflix (41.4%), Hulu (7.9%), Prime Video (51.2%), Disney+ (8.0%).\n",
    "* Total Genres, Countries, Languages, and Directors\n",
    "    * Total Genres (2: 27.2%, 3: 34.9%, 4: 17.5%).\n",
    "    * Total Countries (1: 71.3%, 2: 14.4%).\n",
    "    * Total Languages (1: 63.0%, 2: 19.8%).\n",
    "    * Total Directors (1: 95.6%, 2: 3.5%).\n",
    "* Age ratings\n",
    "    * All ages (9.4%), 7+ (18.6%), 13+ (27.0%), 16+ (2.3%), 18+ (42.7%).\n",
    "* Genres\n",
    "    * Action (25.4%), Adventure (13.1%), Sci-Fi (9.4%), Thriller (23.0%), Comedy (28.2%), Western (4.1%), Animation (1.1%), Family (6.5%), Biography (13.3%), Drama (69.3%), Music (3.8%), War (9.4%), Crime (14.8%), Fantasy (6.3%), Romance (24.5%), History (10.4%), Mystery (8.5%), Sport (4.2%), Documentary (2.9%), Musical (3.6%), News (0.3%), Horror (4.1%), Short (0%), Film-Noir (0%), Reality TV (0%).\n",
    "* Available Regions\n",
    "    * North America (56.6%), South America (1.2%), Europe (28.7%), Asia (34.3%), Australia & Pacific (1.8%), Africa (1.2%).\n",
    "* Available Languages\n",
    "    * English (70.4%), French (11.8%), Spanish (9.5%), Arabic (1.7%), Portuguese (1.2%), North American (0.5%), South American (0.3%), European (18.1%), Asian (36.6%), Australian & Pacific (0.5%), African (0.8%), Sign Language (0.6%), Other (0.2%).\n",
    "* Runtime Length\n",
    "    * Short (0%), Regular-Short (100%), Regular-Long (0%), Long (0%).\n",
    "* Movie Age\n",
    "    * 0-10 years (56.0%), 10-20 years (28.4%).\n",
    "* IMDb rating\n",
    "    * 6-7 stars (34.6%), 7-8 stars (33.2%).\n",
    "\n",
    "Cluster 2:\n",
    " \n",
    "* Streaming Platforms\n",
    "    * Netflix (0%), Hulu (0%), Prime Video (83.5%), Disney+ (16.5%).\n",
    "* Total Genres, Countries, Languages, and Directors\n",
    "    * Total Genres (1: 14.7%, 2: 25.7%, 3: 24.8%, 4: 18.3%).\n",
    "    * Total Countries (1: 94.5%, 2: 4.6%).\n",
    "    * Total Languages (1: 92.7%, 2: 6.4%).\n",
    "    * Total Directors (1: 86.2%, 2: 7.3%).\n",
    "* Age ratings\n",
    "    * All ages (67.0%), 7+ (28.4%), 13+ (3.7%), 16+ (0%), 18+ (0.9%).\n",
    "* Genres\n",
    "    * Action (22.0%), Adventure (23.9%), Sci-Fi (7.3%), Thriller (13.8%), Comedy (30.3%), Western (35.8%), Animation (11.0%), Family (22.0%), Biography (1.8%), Drama (34.9%), Music (11.9%), War (3.7%), Crime (10.1%), Fantasy (12.8%), Romance (20.2%), History (1.8%), Mystery (9.2%), Sport (1.8%), Documentary (6.4%), Musical (7.3%), News (0%), Horror (8.3%), Short (1.8%), Film-Noir (2.8%), Reality TV (0%).\n",
    "* Available Regions\n",
    "    * North America (92.7%), South America (0%), Europe (8.3%), Asia (0.9%), Australia & Pacific (0%), Africa (0.9%).\n",
    "* Available Languages\n",
    "    * English (96.3%), French (3.7%), Spanish (1.8%), Arabic (0%), Portuguese (0%), North American (0%), South American (0%), European (4.6%), Asian (0.9%), Australian & Pacific (0%), African (0%), Sign Language (0.9%), Other (0.9%).\n",
    "* Runtime Length\n",
    "    * Short (89.0%), Regular-Short (0%), Regular-Long (5.5%), Long (5.5%).\n",
    "* Movie Age\n",
    "    * 60-70 years (27.5%), 70-80 years (28.4%), 80-90 years (30.3%).\n",
    "* IMDb rating\n",
    "    * 5-6 stars (26.6%), 6-7 stars (32.1%).\n",
    "\n",
    "Cluster 3:\n",
    " \n",
    "* Streaming Platforms\n",
    "    * Netflix (26.3%), Hulu (4.1%), Prime Video (62.5%), Disney+ (9.9%).\n",
    "* Total Genres, Countries, Languages, and Directors\n",
    "    * Total Genres (1: 39.6%, 2: 31.4%).\n",
    "    * Total Countries (1: 90.1%, 2: 8.5%).\n",
    "    * Total Languages (1: 92.5%, 2: 5.8%).\n",
    "    * Total Directors (1: 83.6%, 2: 14.3%).\n",
    "* Age ratings\n",
    "    * All ages (25.3%), 7+ (22.2%), 13+ (10.9%), 16+ (5.5%), 18+ (36.2%).\n",
    "* Genres\n",
    "    * Action (6.5%), Adventure (8.5%), Sci-Fi (2.4%), Thriller (3.4%), Comedy (46.4%), Western (0.3%), Animation (19.1%), Family (19.8%), Biography (3.4%), Drama (9.9%), Music (4.8%), War (1.4%), Crime (3.4%), Fantasy (7.2%), Romance (2.0%), History (4.8%), Mystery (1.4%), Sport (2.0%), Documentary (46.4%), Musical (3.8%), News (0%), Horror (0%), Short (24.2%), Film-Noir (0%), Reality TV (0%).\n",
    "* Available Regions\n",
    "    * North America (83.6%), South America (0.3%), Europe (16.7%), Asia (5.5%), Australia & Pacific (0%), Africa (0%).\n",
    "* Available Languages\n",
    "    * English (95.9%), French (1.0%), Spanish (0.7%), Arabic (1.0%), Portuguese (0.3%), North American (0%), South American (0%), European (4.1%), Asian (3.8%), Australian & Pacific (0.3%), African (0%), Sign Language (1.4%), Other (1.0%).\n",
    "* Runtime Length\n",
    "    * Short (100%), Regular-Short (0%), Regular-Long (0%), Long (0%).\n",
    "* Movie Age\n",
    "    * 0-10 years (67.6%), 10-20 years (23.9%).\n",
    "* IMDb rating\n",
    "    * 6-7 stars (29.0%), 7-8 stars (33.8%).\n",
    "\n",
    "Cluster 4:\n",
    " \n",
    "* Streaming Platforms\n",
    "    * Netflix (20.3%), Hulu (8.6%), Prime Video (69.6%), Disney+ (6.6%).\n",
    "* Total Genres, Countries, Languages, and Directors\n",
    "    * Total Genres (1: 22.7%, 2: 29.4%, 3: 25.4%).\n",
    "    * Total Countries (1: 77.9%, 2: 15.6%).\n",
    "    * Total Languages (1: 82.0%, 2: 12.5%).\n",
    "    * Total Directors (1: 90.5%, 2: 8.1%).\n",
    "* Age ratings\n",
    "    * All ages (9.4%), 7+ (19.3%), 13+ (16.0%), 16+ (4.7%), 18+ (50.7%).\n",
    "* Genres\n",
    "    * Action (19.5%), Adventure (14.9%), Sci-Fi (10.3%), Thriller (26.1%), Comedy (32.4%), Western (2.1%), Animation (6.3%), Family (14.4%), Biography (4.5%), Drama (44.0%), Music (3.4%), War (2.6%), Crime (13.2%), Fantasy (9.9%), Romance (13.7%), History (2.8%), Mystery (8.8%), Sport (2.8%), Documentary (9.1%), Musical (2.3%), News (0.5%), Horror (17.9%), Short (0%), Film-Noir (0.1%), Reality TV (0.0%).\n",
    "* Available Regions\n",
    "    * North America (80.2%), South America (1.0%), Europe (22.7%), Asia (8.7%), Australia & Pacific (3.0%), Africa (0.9%).\n",
    "* Available Languages\n",
    "    * English (91.5%), French (4.8%), Spanish (5.8%), Arabic (1.0%), Portuguese (0.5%), North American (0.3%), South American (0.0%), European (8.5%), Asian (8.9%), Australian & Pacific (0.1%), African (0.3%), Sign Language (0.3%), Other (0.1%).\n",
    "* Runtime Length\n",
    "    * Short (24.2%), Regular-Short (14.9%), Regular-Long (34.0%), Long (26.8%).\n",
    "* Movie Age\n",
    "    * 0-10 years (51.7%), 10-20 years (21.7%).\n",
    "* IMDb rating\n",
    "    * 5-6 stars (27.0%), 6-7 stars (29.2%).\n",
    "\n",
    "\n",
    "#### KModes Clustering Attributes\n",
    "\n",
    "##### Highlight Summary\n",
    "\n",
    "* Cluster 0:\n",
    "    * Mostly available on Prime Video. There are less genres per movie. The movies are mostly available in 1 country and language, and mostly directed by 1 director. Movies in this cluster targets Adult audiences 18+. Drama, Thriller, and Comedies are popular genres. These movies are mostly available in North America and in English. There’s a wide-range of movie lengths but slightly more in the Regular-Long range (1.5-1.75 hours). Most movies were made in the last 20 years. Average IMDb ratings are in the 5-7 stars range.\n",
    "* Cluster 1:\n",
    "    * Mostly available on Disney+. There are more genres per movie. The movies are mostly available in 1 country and language, and mostly directed by 1 director. Movies in this cluster target the Young/All audience. Family, Comedy, and Adventure are popular genres. These movies are mostly available in North America and in English. There’s a wide-range of movie lengths but slightly more in the Short range (0-1.5 hours). Most movies were made in the last 20 years. Average IMDb ratings are in the 5-6 stars range.\n",
    "* Cluster 2:\n",
    "    * Mostly available on Prime Video. There are more genres per movie. The movies are mostly available in 1-2 countries and languages, and mostly directed by 1 director. Movies in this cluster target the Young/Adolescent/Adult audience. Drama, Thriller, Romance are popular genres. These movies are mostly available in Europe and some in North America, in English and some French. There’s a wide-range of movie lengths but slightly more in the Regular-Short (1.5 hours) range. Most movies were made in the last 20 years. Average IMDb ratings in the 6-7 stars range.\n",
    "* Cluster 3:\n",
    "    * Mostly available on Netflix. There are more genres per movie. The movies are mostly available in 1-2 countries and 1 language, and mostly directed by 1-2 directors. Movies in this cluster target the Young/All audience. Family, Adventure, Animation are popular genres. These movies are mostly available in North America and a little in Europe, in English and a little French. Most movies are Short (0-1.5 hours) length movies. Most movies were made in the last 20 years. Average IMDb ratings in the 6-8 stars range.\n",
    "* Cluster 4:\n",
    "    * Mostly available on Netflix and Prime Video. There are less genres per movie. The movies are mostly available in 1 country and language, and mostly directed by 1 director. Movies in this cluster target the Young/Adolescent/Adult audience. Drama, Action, Comedy are popular genres. These movies are mostly available in Asia and in Asian languages and some English. Most movies in the Regular-Short (1.5 hours) range. Most movies were made in the last 20 years. Average IMDb ratings in the 7-8 stars range.\n",
    "\n",
    "##### Exhaustive summary\n",
    "\n",
    "Cluster 0:\n",
    "\n",
    "* Streaming Platforms\n",
    "    * Netflix (17.3%), Hulu (7.7%), Prime Video (79.2%), Disney+ (0.7%).\n",
    "* Total Genres, Countries, Languages, and Directors\n",
    "    * Total Genres (1: 27.7%, 2: 37.3%, 3: 19.6%).\n",
    "    * Total Countries (1: 84.0%, 2: 11.9%).\n",
    "    * Total Languages (1: 85.3%, 2: 10.1%).\n",
    "    * Total Directors (1: 91.9%, 2: 7.3%).\n",
    "* Age ratings\n",
    "    * All ages (5.7%), 7+ (11.6%), 13+ (13.7%), 16+ (4.6%), 18+ (64.4%).\n",
    "* Genres\n",
    "    * Action (19.7%), Adventure (8.4%), Sci-Fi (10.3%), Thriller (28.7%), Comedy (28.7%), Western (3.1%), Animation (1.1%), Family (3.6%), Biography (4.0%), Drama (38.9%), Music (3.2%), War (2.1%), Crime (14.0%), Fantasy (4.8%), Romance (11.4%), History (2.3%), Mystery (8.4%), Sport (2.2%), Documentary (12.3%), Musical (0.8%), News (0.5%), Horror (20.8%), Short (0.7%), Film-Noir (0.1%), Reality TV (0.0%).\n",
    "* Available regions\n",
    "    * North America (92.0%), South America (0.9%), Europe (12.5%), Asia (4.1%), Australia & Pacific (2.2%), Africa (0.7%).\n",
    "* Available languages\n",
    "    * English (97.0%), French (3.5%), Spanish (5.4%), Arabic (0.5%), Portuguese (0.5%), North American (0.3%), South American (0.0%), European (6.3%), Asian (4.6%), Australian & Pacific (0.0%), African (0.2%), Sign Language (0.4%), Other (0.2%).\n",
    "* Runtime length\n",
    "    * Short (26.9%), Regular-Short (13.9%), Regular-Long (36.5%), Long (22.7%).\n",
    "* Movie age\n",
    "    * 0-10 years (52.1%), 10-20 years (21.6%).\n",
    "* IMDb rating\n",
    "    * 5-6 stars (25.5%), 6-7 stars (27.8%).\n",
    "\n",
    "Cluster 1:\n",
    "\n",
    "* Streaming Platforms\n",
    "    * Netflix (17.0%), Hulu (9.3%), Prime Video (18.3%), Disney+ (57.6%).\n",
    "* Total Genres, Countries, Languages, and Directors\n",
    "    * Total Genres (3: 38.5%, 4: 17.3%).\n",
    "    * Total Countries (1: 82.4%, 2: 13.5%).\n",
    "    * Total Languages (1: 85.9%, 2: 10.1%).\n",
    "    * Total Directors (1: 88.0%, 2: 8.7%).\n",
    "* Age ratings\n",
    "    * All ages (38.9%), 7+ (51.4%), 13+ (7.2%), 16+ (2.0%), 18+ (0.5%).\n",
    "* Genres\n",
    "    * Action (13.5%), Adventure (32.0%), Sci-Fi (12.6%), Thriller (3.3%), Comedy (64.2%), Western (2.6%), Animation (15.6%), Family (72.5%), Biography (3.0%), Drama (29.9%), Music (6.2%), War (0.8%), Crime (4.8%), Fantasy (19.7%), Romance (17.0%), History (1.2%), Mystery (3.9%), Sport (7.5%), Documentary (6.2%), Musical (11.0%), News (0.2%), Horror (2.9%), Short (2.0%), Film-Noir (0%), Reality TV (0%).\n",
    "* Available regions\n",
    "    * North America (97.4%), South America (0%), Europe (7.8%), Asia (2.3%), Australia & Pacific (3.2%), Africa (0.8%).\n",
    "* Available languages\n",
    "    * English (98.9%), French (3.6%), Spanish (4.4%), Arabic (0.6%), Portuguese (0.3%), North American (0%), South American (0%), European (6.0%), Asian (3.2%), Australian & Pacific (0.2%), African (0.6%), Sign Language (0.6%), Other (0.2%).\n",
    "* Runtime length\n",
    "    * Short (41.7%), Regular-Short (16.4%), Regular-Long (22.6%), Long (19.7%).\n",
    "* Movie age\n",
    "    * 0-10 years (38.5%), 10-20 years (29.9%).\n",
    "* IMDb rating\n",
    "    * 5-6 stars (40.6%), 6-7 stars (27.1%).\n",
    "\n",
    "\n",
    "Cluster 2:\n",
    "\n",
    "* Streaming Platforms\n",
    "    * Netflix (18.8%), Hulu (9.3%), Prime Video (77.1%), Disney+ (1.3%).\n",
    "* Total Genres, Countries, Languages, and Directors\n",
    "    * Total Genres (1: 16.1%, 2: 15.1%, 3: 43.2%, 4: 17.6%).\n",
    "    * Total Countries (1: 53.4%, 2: 27.7%).\n",
    "    * Total Languages (1: 64.2%, 2: 21.8%).\n",
    "    * Total Directors (1: 93.7%, 2: 5.4%).\n",
    "* Age ratings\n",
    "    * All ages (8.6%), 7+ (20.3%), 13+ (29.4%), 16+ (5.8%), 18+ (36.0%).\n",
    "* Genres\n",
    "    * Action (14.6%), Adventure (12.9%), Sci-Fi (6.5%), Thriller (28.5%), Comedy (18.4%), Western (3.5%), Animation (2.1%), Family (5.1%), Biography (13.0%), Drama (77.1%), Music (5.0%), War (9.6%), Crime (14.8%), Fantasy (6.7%), Romance (21.3%), History (10.9%), Mystery (12.6%), Sport (3.3%), Documentary (9.2%), Musical (2.0%), News (0.5%), Horror (9.9%), Short (1.4%), Film-Noir (0%), Reality TV (0%).\n",
    "* Available regions\n",
    "    * North America (40.8%), South America (1.8%), Europe (78.2%), Asia (6.5%), Australia & Pacific (5.1%), Africa (2.1%).\n",
    "* Available languages\n",
    "    * English (84.6%), French (14.0%), Spanish (9.9%), Arabic (2.9%), Portuguese (1.0%), North American (0.2%), South American (0.3%), European (25.7%), Asian (7.6%), Australian & Pacific (0.5%), African (1.2%), Sign Language (0.3%), Other (0.3%).\n",
    "* Runtime length\n",
    "    * Short (14.6%), Regular-Short (46.5%), Regular-Long (12.7%), Long (26.3%).\n",
    "* Movie age\n",
    "    * 0-10 years (52.2%), 10-20 years (23.0%).\n",
    "* IMDb rating\n",
    "    * 5-6 stars (21.3%), 6-7 stars (40.7%), 7-8 stars (20.9%).\n",
    "\n",
    "\n",
    "Cluster 3:\n",
    "\n",
    "* Streaming Platforms\n",
    "    * Netflix (53.5%), Hulu (13.5%), Prime Video (19.1%), Disney+ (20.9%).\n",
    "* Total Genres, Countries, Languages, and Directors\n",
    "    * Total Genres (4: 36.9%, 5: 30.1%, 6: 17.0%).\n",
    "    * Total Countries (1: 62.1%, 2: 23.8%).\n",
    "    * Total Languages (1: 74.8%, 2: 16.7%).\n",
    "    * Total Directors (1: 61.7%, 2: 28.0%).\n",
    "* Age ratings\n",
    "    * All ages (33.7%), 7+ (57.1%), 13+ (8.2%), 16+ (7.1%), 18+ (0.4%).\n",
    "* Genres\n",
    "    * Action (24.1%), Adventure (81.9%), Sci-Fi (16.3%), Thriller (2.8%), Comedy (66.3%), Western (1.8%), Animation (77.7%), Family (86.2%), Biography (0.4%), Drama (15.2%), Music (2.5%), War (0.4%), Crime (3.2%), Fantasy (71.6%), Romance (7.8%), History (0.4%), Mystery (5.3%), Sport (0.4%), Documentary (0%), Musical (15.2%), News (0%), Horror (2.5%), Short (4.3%), Film-Noir (0%), Reality TV (0%).\n",
    "* Available regions\n",
    "    * North America (87.6%), South America (0.7%), Europe (27.0%), Asia (15.2%), Australia & Pacific (2.5%), Africa (0.4%).\n",
    "* Available languages\n",
    "    * English (94.0%), French (9.9%), Spanish (6.4%), Arabic (0.4%), Portuguese (1.1%), North American (0.7%), South American (0%), European (10.3%), Asian (11.0%), Australian & Pacific (0.4%), African (0%), Sign Language (0%), Other (0%).\n",
    "* Runtime length\n",
    "    * Short (52.1%), Regular-Short (11.3%), Regular-Long (17.7%), Long (18.8%).\n",
    "* Movie age\n",
    "    * 0-10 years (56.4%), 10-20 years (23.0%).\n",
    "* IMDb rating\n",
    "    * 6-7 stars (27.7%), 7-8 stars (30.9%).\n",
    "\n",
    "\n",
    "Cluster 4:\n",
    "\n",
    "* Streaming Platforms\n",
    "    * Netflix (59.9%), Hulu (4.1%), Prime Video (44.5%), Disney+ (0.2%).\n",
    "* Total Genres, Countries, Languages, and Directors\n",
    "    * Total Genres (2: 27.8%, 3: 36.2%).\n",
    "    * Total Countries (1: 88.0%, 2: 8.1%).\n",
    "    * Total Languages (1: 71.1%, 2: 18.4%).\n",
    "    * Total Directors (1: 93.1%, 2: 5.6%).\n",
    "* Age ratings\n",
    "    * All ages (14.4%), 7+ (25.0%), 13+ (30.1%), 16+ (4.1%), 18+ (26.5%).\n",
    "* Genres\n",
    "    * Action (36.2%), Adventure (9.4%), Sci-Fi (5.0%), Thriller (20.4%), Comedy (35.9%), Western (0.3%), Animation (6.9%), Family (5.8%), Biography (5.3%), Drama (66.8%), Music (1.7%), War (4.2%), Crime (14.5%), Fantasy (7.0%), Romance (29.0%), History (5.3%), Mystery (6.4%), Sport (2.8%), Documentary (2.0%), Musical (5.0%), News (0%), Horror (6.4%), Short (0.3%), Film-Noir (0%), Reality TV (0%).\n",
    "* Available regions\n",
    "    * North America (10.8%), South America (0.9%), Europe (3.9%), Asia (92.0%), Australia & Pacific (0.6%), Africa (0.3%).\n",
    "* Available languages\n",
    "    * English (22.5%), French (3.3%), Spanish (2.3%), Arabic (1.6%), Portuguese (0.6%), North American (0.2%), South American (0%), European (3.9%), Asian (92.2%), Australian & Pacific (0%), African (0.2%), Sign Language (0.2%), Other (0%).\n",
    "* Runtime length\n",
    "    * Short (5.8%), Regular-Short (71.6%), Regular-Long (8.3%), Long (14.4%).\n",
    "* Movie age\n",
    "    * 0-10 years (59.6%), 10-20 years (20.1%).\n",
    "* IMDb rating\n",
    "    * 6-7 stars (27.0%), 7-8 stars (38.5%).\n"
   ]
  },
  {
   "cell_type": "markdown",
   "metadata": {
    "cell_id": "00090-18a8d28c-c0cd-474e-b6db-ed06a27bf43a",
    "deepnote_cell_type": "markdown",
    "tags": []
   },
   "source": [
    "### Cluster Distances"
   ]
  },
  {
   "cell_type": "markdown",
   "metadata": {
    "cell_id": "00122-0a067b37-9d61-486e-88cd-0fe30995b541",
    "deepnote_cell_type": "markdown",
    "tags": []
   },
   "source": [
    "Since this dataset did not include pre-assigned class labels, the cluster distances/other cluster metrics were used to ascertain the accuracy of the algorithm."
   ]
  },
  {
   "cell_type": "code",
   "execution_count": null,
   "metadata": {
    "cell_id": "00103-35756618-ac67-4170-918f-e51b422e6d36",
    "deepnote_cell_type": "code",
    "deepnote_to_be_reexecuted": false,
    "execution_millis": 6796,
    "execution_start": 1620670640214,
    "is_code_hidden": false,
    "source_hash": "f9403397",
    "tags": []
   },
   "outputs": [],
   "source": [
    "ag = AgglomerativeClustering(n_clusters= 5, affinity='euclidean', linkage='complete')\n",
    "Y_pred = ag.fit_predict(hierarch_df)\n",
    "dm = pdist(hierarch_df,metric='euclidean')\n",
    "Z = linkage(dm, method='complete')\n",
    "coph = cophenet(Z)\n",
    "print(np.corrcoef(dm,coph))\n",
    "print(silhouette_score(hierarch_df, Y_pred))"
   ]
  },
  {
   "cell_type": "markdown",
   "metadata": {
    "cell_id": "00109-21af33e5-655b-4b2d-9acc-13e5ce2932e0",
    "deepnote_cell_type": "markdown",
    "tags": []
   },
   "source": [
    "To start, the first algorithm analyzed for the cluster distances was the agglomerative hierarchial clustering with complete linkage. Since this method is hierarchical clustering, the cophenetic correlation coefficient can be used to determine whether or not the clustering is better for the given dataset. In fact, the euclidean distance matrix was calculated for the given dataset and the cophenetic distances were given using the complete linkage function. Lastly, finding the correlation between the two distance matrices yielded the correlation matrix above. It is apparent that the value outputted from the correlation matrix is quite close to 1, hinting that the dendogram preserves the pairwise distances of the original dataset. Additionally, the average silhouette score of the complete linkage with 5 clusters yielded a value of about 0.35, hinting that the clusters are more cohesive and well separated. This can also be used as a metric to evaluate the cluster distances as more well separated and cohesive clusters means there is larger cluster distances."
   ]
  },
  {
   "cell_type": "code",
   "execution_count": null,
   "metadata": {
    "cell_id": "00104-be098ffd-d10d-4e88-8799-8b90e1d4e6f4",
    "deepnote_cell_type": "code",
    "deepnote_to_be_reexecuted": false,
    "execution_millis": 11666,
    "execution_start": 1620670647006,
    "source_hash": "442bd6d5",
    "tags": []
   },
   "outputs": [],
   "source": [
    "km = KModes(n_clusters=5,random_state=1000)\n",
    "cluster_labels = km.fit_predict(mdf_cat)\n",
    "silhouette_avg = silhouette_score(mdf_cat, cluster_labels)\n",
    "print(silhouette_avg)\n",
    "create_silhouette_plot(mdf_cat, cluster_labels)"
   ]
  },
  {
   "cell_type": "markdown",
   "metadata": {
    "cell_id": "00111-7358caff-7687-44fe-a9f9-be687de48445",
    "deepnote_cell_type": "markdown",
    "tags": []
   },
   "source": [
    "Unfortunately for k-modes, there does not seem to be a cophenetic correlation coefficient metric that can be used for this unsupervised learning method. Instead, it is better to look at the average silhouette score as well as the silhouette plot, once again. From the average silhouette score, the values is very close to about 0.1. This hints that there is a very average/mediocre amount of cohesion and separation among clusters in the dataset. Hence, the cluster distances among clusters must be on the smaller end of the spectrum as less separation and cohesion makes clusters overlap with one another."
   ]
  },
  {
   "cell_type": "markdown",
   "metadata": {
    "cell_id": "00009-79558bc3-c369-4fe7-8dc2-d766d80a1eef",
    "deepnote_cell_type": "markdown",
    "tags": []
   },
   "source": [
    "## 7. Analysis Summary"
   ]
  },
  {
   "cell_type": "markdown",
   "metadata": {
    "cell_id": "00123-2dd105d8-ce0a-444f-ad37-2c49b90aa823",
    "deepnote_cell_type": "markdown",
    "tags": []
   },
   "source": [
    "### Algorithm Comparison Summary"
   ]
  },
  {
   "cell_type": "code",
   "execution_count": null,
   "metadata": {
    "cell_id": "00129-8fb21471-6fa3-43db-8f25-10ef0e39411b",
    "deepnote_cell_type": "code",
    "tags": []
   },
   "outputs": [],
   "source": [
    "# KModes plots\n",
    "km = KModes(n_clusters=5,random_state=1000)\n",
    "cluster_labels = km.fit_predict(mdf_cat)\n",
    "mdf_cat['predicted_cluster']=cluster_labels\n",
    "\n",
    "for i in mdf_cat.columns:\n",
    "    ctab = pd.crosstab(mdf_cat[i], mdf_cat['predicted_cluster'])\n",
    "    print(ctab)\n",
    "    print(ctab / ctab.sum())\n",
    "    ctab.plot.bar()\n",
    "    plt.title('{}'.format(i))\n",
    "    plt.xlabel(i)\n",
    "    plt.show()"
   ]
  },
  {
   "cell_type": "markdown",
   "metadata": {
    "cell_id": "00118-d43b26b1-c8b8-4fc8-9ad4-980dfa8d390d",
    "deepnote_cell_type": "markdown",
    "tags": []
   },
   "source": [
    "From the results throughout this report, it is apparent that the k-modes did a much better job in ascertaining groups within the data than that of the agglomerative hierarchial clustering. In terms of the research motivations, there were a lot of insights that needed to be confirmed. Prior to this analysis, there were a lot of relationships that were intuitive and needed to substantiate with unsupervised learning. For instance, a group that contained the `Disney+` streaming service should also like `family` and `animation` genres and have age groups that are younger. This specific example was better confirmed by the k-modes clustering than that of the agglomerative hierarchial clustering. The research goals of this project was to understand underlying groups within streaming platforms to better understand how to cater to them. By understanding this, reccomendations, like different movie genres, can be made to allow for a more enjoyable viewing experience. Overall, the k-modes algorithm better helped reach the research goals of this analysis and provided informative results."
   ]
  },
  {
   "cell_type": "markdown",
   "metadata": {
    "cell_id": "00125-eb0f12d5-86bc-4242-84c9-455be5602cf8",
    "deepnote_cell_type": "markdown",
    "tags": []
   },
   "source": [
    "### Insights Summary"
   ]
  },
  {
   "cell_type": "markdown",
   "metadata": {
    "cell_id": "00126-47dd9509-27bb-4443-8da4-81f0ff48753f",
    "deepnote_cell_type": "markdown",
    "tags": []
   },
   "source": [
    "In conclusion, this project provided a variety of insights on not only the dataset, but also the ways in which unsupervised learning methods can be applied and interpretted. In the beginning of the report, an exploratory data analysis as well as a data processing/cleaning phase was necessary to jumpstart the unsupervised learning analysus. First, many descriptive statistics were calculated for all the numerical data in the dataset. From the output, it was evident that there was a large standard deviation among each feature in the dataset. Additionally, with the creation of dummy variables, the standard deviation was quite unbalanced from feature to feature. To combat this, a scaling/stanardizing of the data was completed to ensure a more fair and holistic analysis. Furthermore, some basic pairwise relationships were ascertained to see if there were any correlations between variables of interest. Specifically, there was a strong positive correlation between `Disney+` and the `Family` genre, which makes sense intuitively. \n",
    "\n",
    "After the preliminary exploratory data analysis, the dataset structure was put under scrutiny. The two dataset, `mdf` and `mdf_cat`, were plotted onto a t-sne plot to discover the shape of each dataset. Unfortunately, both datasets seemed to be encompassed by 1-2 clusters and were approximately spherical in shape. Additionally, there was a large imbalance in the size of the clusters with many clusters overlapping with one another. Because of the shape and type of dataset that was being used, two main clustering algorithms were applied to the dataset: agglomerative hierarchial clustering and k-modes clustering. From further analysis using silhouette scores, dendograms, elbow plots and t-sne plots, it was found that using 5 cluster for the k-modes algorithm and using 5 clusters with complete linkage for the agglomerative hierarchial clustering algorithm provided the most optimal results.\n",
    "\n",
    "After choosing the final clustering, the separation and cohesion of the clusters were assessed using the silhouette score and plots. From this analysis, it was found that the agglomerative hierarchial clustering had much better separation and cohesion in comparison to that of the k-modes algorithm. However, this does not mean that hierarchial clustering perfomed better than k-modes. When looking at the cluster attributes, it was apparent that many of the clusterings created by k-modes made sense. In other words, k-modes was much better at identifying streaming platforms as cluster groups, while hierarchial clustering tends to muddle the streaming platforms together. Additionally, some of the cluster in the hierarchial clustering didn't make sense, like having a group that is dominated by both younger and older audiences who watch comedies and documentaries. This doesn't intuitively make sense and it yielded inaccurate results. On the other hand, k-modes provided cluster groups that actually made sense. For instance, there was a `Disney+` cluster group that had younger audiences and had adventure, animation and family genre movies. This result intuitively makes sense and is more accurate. Lastly, looking at the cluster distances of each method, it was apparent that the cluster distances of agglomerative hierarchial clustering were smaller than that of k-modes clustering due to the differences in average silhouette scores.\n",
    "\n",
    "All in all, this clustering analysis provided an insightful analysis on the research motivation and shed light on underlying groups within the streaming platforms dataset, which will help cater and reccomend genres to different groups. "
   ]
  },
  {
   "cell_type": "markdown",
   "metadata": {
    "created_in_deepnote_cell": true,
    "deepnote_cell_type": "markdown",
    "tags": []
   },
   "source": [
    "<a style='text-decoration:none;line-height:16px;display:flex;color:#5B5B62;padding:10px;justify-content:end;' href='https://deepnote.com?utm_source=created-in-deepnote-cell&projectId=e78434b8-db04-42b7-8798-69dc38c46636' target=\"_blank\">\n",
    "<img alt='Created in deepnote.com' style='display:inline;max-height:16px;margin:0px;margin-right:7.5px;' src='data:image/svg+xml;base64,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' > </img>\n",
    "Created in <span style='font-weight:600;margin-left:4px;'>Deepnote</span></a>"
   ]
  }
 ],
 "metadata": {
  "deepnote": {
   "is_reactive": false
  },
  "deepnoteSessionId": "dea8a0f5-35e3-4468-94eb-804ff5fc7baa",
  "deepnote_execution_queue": [],
  "deepnote_notebook_id": "0f460af1-1872-4aa4-804e-36716dbf15fd",
  "kernelspec": {
   "display_name": "Python 3",
   "language": "python",
   "name": "python3"
  },
  "language_info": {
   "codemirror_mode": {
    "name": "ipython",
    "version": 3
   },
   "file_extension": ".py",
   "mimetype": "text/x-python",
   "name": "python",
   "nbconvert_exporter": "python",
   "pygments_lexer": "ipython3",
   "version": "3.8.8"
  }
 },
 "nbformat": 4,
 "nbformat_minor": 4
}
